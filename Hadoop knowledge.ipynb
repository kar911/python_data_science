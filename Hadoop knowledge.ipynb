{
 "cells": [
  {
   "cell_type": "markdown",
   "metadata": {},
   "source": [
    "# hadoop"
   ]
  },
  {
   "cell_type": "markdown",
   "metadata": {},
   "source": [
    "* inspired by GFS (google file system)\n",
    "* created by Yahoo! in project \"NUTCH\"\n",
    "* leads are Doug cutting and tom white in 2006\n",
    "* it is a software platefoem for distributed storeage\n",
    "and distributed processing on a large data on cluster of \n",
    "computer\n",
    "* it was first made for batch processing\n",
    "* HDFS -> key to larg file(128 MB or 62MB)\n",
    "* make splitting of data easy\n",
    "* and processing reach"
   ]
  },
  {
   "cell_type": "markdown",
   "metadata": {},
   "source": [
    "# core element of hadoop"
   ]
  },
  {
   "cell_type": "markdown",
   "metadata": {},
   "source": [
    "# HDFS ,YARN ,MAPREDUCER "
   ]
  },
  {
   "cell_type": "markdown",
   "metadata": {},
   "source": [
    "# HDFS\n",
    "* Hadoop Distributed File System (HDFS) is designed to reliably store very large files across machines in a large cluster. It is inspired by the GoogleFileSystem.\n",
    "* Distribute large data file into blocks\n",
    "* Blocks are managed by different nodes in the cluster\n",
    "* Each block is replicated on multiple nodes\n",
    "* Name node stored metadata information about files and blocks"
   ]
  },
  {
   "cell_type": "markdown",
   "metadata": {},
   "source": [
    " # MAPPEDUCER\n",
    "## The Mapper:\n",
    "* Each block is processed in isolation by a map task called mapper\n",
    "* Map task runs on the node where the block is stored\n",
    "## The Reducer:\n",
    "* Consolidate result from different mappers\n",
    "* Produce final output"
   ]
  },
  {
   "cell_type": "code",
   "execution_count": null,
   "metadata": {},
   "outputs": [],
   "source": []
  }
 ],
 "metadata": {
  "kernelspec": {
   "display_name": "Python 3",
   "language": "python",
   "name": "python3"
  },
  "language_info": {
   "codemirror_mode": {
    "name": "ipython",
    "version": 3
   },
   "file_extension": ".py",
   "mimetype": "text/x-python",
   "name": "python",
   "nbconvert_exporter": "python",
   "pygments_lexer": "ipython3",
   "version": "3.8.5"
  }
 },
 "nbformat": 4,
 "nbformat_minor": 4
}
