{
 "cells": [
  {
   "cell_type": "markdown",
   "id": "107fa621-b3dd-4acf-9642-1ab8cb5e99a9",
   "metadata": {},
   "source": [
    "# EDA"
   ]
  },
  {
   "cell_type": "code",
   "execution_count": 1,
   "id": "6bc88a3b-5086-4c18-979d-5b3322be169c",
   "metadata": {},
   "outputs": [],
   "source": [
    "# import matplotlib\n",
    "import pandas as pd\n",
    "import numpy as np\n",
    "import seaborn as sn\n",
    "# import matplotlib.pylab as pl\n",
    "# matplotlib.rcParams['figure.figsize']=(12,6)"
   ]
  },
  {
   "cell_type": "code",
   "execution_count": 24,
   "id": "a0ff548a-1c2d-4a05-b071-8da60d7a5261",
   "metadata": {},
   "outputs": [],
   "source": [
    "g=list()\n",
    "i1=1\n",
    "i2=1\n",
    "for _ in range(50):\n",
    "    x=i2\n",
    "    i2=i2+i1\n",
    "    i1=x\n",
    "    g.append(i2)"
   ]
  },
  {
   "cell_type": "code",
   "execution_count": 23,
   "id": "d9b1b415-5022-4c63-8e04-50867fc1fe00",
   "metadata": {},
   "outputs": [],
   "source": [
    "del g\n",
    "2,3,5,7,11,13,17,19,23,29,31"
   ]
  },
  {
   "cell_type": "code",
   "execution_count": null,
   "id": "5d96f9cd-7405-415b-a496-8a64e963fcdc",
   "metadata": {},
   "outputs": [],
   "source": []
  },
  {
   "cell_type": "code",
   "execution_count": 28,
   "id": "784ef0b8-61cf-4a7e-a28e-90efe44d65bc",
   "metadata": {},
   "outputs": [],
   "source": [
    "# sn.lineplot(x=(i for i in range(len(g))),y=[True if i%2==0 else False for i in g])"
   ]
  },
  {
   "cell_type": "code",
   "execution_count": 1,
   "id": "243f89eb-6745-4c92-b57a-410455788a25",
   "metadata": {},
   "outputs": [
    {
     "data": {
      "text/plain": [
       "{('1E', '1P', None, None),\n",
       " ('1E', '2A', '1P', None),\n",
       " ('1E', '2A', None, None),\n",
       " ('1E', '2S', '1P', None),\n",
       " ('1E', '2S', '2A', '1P'),\n",
       " ('1E', '2S', '2A', None),\n",
       " ('1E', '2S', None, None),\n",
       " ('2A', '1P', None, None),\n",
       " ('2S', '1P', None, None),\n",
       " ('2S', '2A', '1P', None),\n",
       " ('2S', '2A', None, None)}"
      ]
     },
     "execution_count": 1,
     "metadata": {},
     "output_type": "execute_result"
    }
   ],
   "source": [
    "import itertools as it\n",
    "{i for i in it.combinations([\"1E\",\"2S\",\"2A\",\"1P\",None,None],4)}"
   ]
  },
  {
   "cell_type": "code",
   "execution_count": 2,
   "id": "f4e433ef-384f-44f2-a099-2d500a52b8a3",
   "metadata": {},
   "outputs": [],
   "source": [
    "df=pd.read_csv(\"data/Zomatodataset/zomato.csv\",encoding=\"latin-1\")"
   ]
  },
  {
   "cell_type": "code",
   "execution_count": 3,
   "id": "964ff306-5d86-407d-bdb5-fa07a8ed84ac",
   "metadata": {},
   "outputs": [],
   "source": [
    "df.to_csv(\"data/Zomatodataset/zomato2.csv\")"
   ]
  },
  {
   "cell_type": "code",
   "execution_count": 20,
   "id": "bd08126f-12c6-446e-8391-348cedac77ac",
   "metadata": {},
   "outputs": [],
   "source": [
    "pd.set_option('display.max_columns',30)"
   ]
  },
  {
   "cell_type": "code",
   "execution_count": 2,
   "id": "3e76fd2a-8ffb-4d7c-9140-5a2169a1d892",
   "metadata": {},
   "outputs": [],
   "source": [
    "df=pd.read_csv(\"data/Zomatodataset/zomato.csv\")"
   ]
  },
  {
   "cell_type": "code",
   "execution_count": 3,
   "id": "724125bb-effd-43b6-9ce8-6f39202b9e40",
   "metadata": {},
   "outputs": [
    {
     "data": {
      "text/plain": [
       "(9552, 22)"
      ]
     },
     "execution_count": 3,
     "metadata": {},
     "output_type": "execute_result"
    }
   ],
   "source": [
    "df.shape"
   ]
  },
  {
   "cell_type": "code",
   "execution_count": 4,
   "id": "6c94223b-5a21-495e-a8a1-d3f1bdbb9222",
   "metadata": {},
   "outputs": [
    {
     "name": "stdout",
     "output_type": "stream",
     "text": [
      "Unnamed: 0 9552\n",
      "Restaurant ID 9552\n",
      "Restaurant Name 7447\n",
      "Country Code 16\n",
      "City 142\n",
      "Address 8919\n",
      "Locality 1208\n",
      "Locality Verbose 1265\n",
      "Longitude 8120\n",
      "Latitude 8677\n",
      "Cuisines 1826\n",
      "Average Cost for two 140\n",
      "Currency 13\n",
      "Has Table booking 3\n",
      "Has Online delivery 3\n",
      "Is delivering now 3\n",
      "Switch to order menu 2\n",
      "Price range 4\n",
      "Aggregate rating 33\n",
      "Rating color 6\n",
      "Rating text 6\n",
      "Votes 1012\n"
     ]
    }
   ],
   "source": [
    "for i,d in df.iteritems():\n",
    "    print(i,d.nunique())"
   ]
  },
  {
   "cell_type": "code",
   "execution_count": 13,
   "id": "7b5103a5-89b0-474c-a3c2-eb2712c2019a",
   "metadata": {},
   "outputs": [],
   "source": [
    "c=df.Average_Cost_for_two.value_counts()\n",
    "bb=c[c>45]"
   ]
  },
  {
   "cell_type": "code",
   "execution_count": 19,
   "id": "b51af7e7-0900-416a-865a-385f47c98892",
   "metadata": {},
   "outputs": [
    {
     "data": {
      "text/plain": [
       "31"
      ]
     },
     "execution_count": 19,
     "metadata": {},
     "output_type": "execute_result"
    }
   ],
   "source": [
    "len(bb)"
   ]
  },
  {
   "cell_type": "code",
   "execution_count": 15,
   "id": "f154c247-9b23-479e-be0a-e86890a1fb9e",
   "metadata": {},
   "outputs": [],
   "source": [
    "# fresh binning\n",
    "def all_freq_10(x):\n",
    "    N = np.array([1, 2, 3, 4, 5, 6, 7, 8, 9])\n",
    "    C = np.array([0., 0., 0., 0., 0., 0., 0., 0., 0.])\n",
    "    x_min, x_max = np.min(x), np.max(x)\n",
    "    D = (x_max-x_min)/N \n",
    "    for i in range(np.size(N)):\n",
    "        n = N[i]+1\n",
    "        edges = np.linspace(x_min,x_max,n)\n",
    "        ki = [ x.between(edges[i-1],edges[i]).sum() for i in range(n) if i != 0 and i != n ]\n",
    "        k = np.mean(ki)\n",
    "        v = np.sum((ki-k)**2)/(n-1)\n",
    "        C[i] = (2*k-v)/((D[i])**2)\n",
    "\n",
    "    cmin = np.min(C)\n",
    "    idx  = np.where(C == cmin)[0][0]\n",
    "    return idx"
   ]
  },
  {
   "cell_type": "code",
   "execution_count": null,
   "id": "133e1f64-e559-4ea1-bb77-4695d7c712c7",
   "metadata": {},
   "outputs": [],
   "source": []
  },
  {
   "cell_type": "code",
   "execution_count": 37,
   "id": "07b3da43-5416-454f-a4e0-c311ab85205a",
   "metadata": {},
   "outputs": [
    {
     "data": {
      "text/plain": [
       "10       128\n",
       "100      353\n",
       "1000     281\n",
       "1100      80\n",
       "1200     145\n",
       "1300      68\n",
       "1400      78\n",
       "150      367\n",
       "1500     190\n",
       "1600      78\n",
       "1800      68\n",
       "200      687\n",
       "2000     110\n",
       "25       174\n",
       "250      461\n",
       "2500      54\n",
       "300      897\n",
       "350      457\n",
       "40       115\n",
       "400      857\n",
       "450      335\n",
       "50        55\n",
       "500      900\n",
       "550      183\n",
       "600      652\n",
       "650      177\n",
       "700      403\n",
       "750       68\n",
       "800      347\n",
       "850       55\n",
       "900      109\n",
       "other    619\n",
       "Name: Average_Cost_for_two, dtype: int64"
      ]
     },
     "execution_count": 37,
     "metadata": {},
     "output_type": "execute_result"
    }
   ],
   "source": [
    "fff=df.Average_Cost_for_two.value_counts(normalize=True)\n",
    "th=fff[(fff.cumsum() > 0.1).idxmax()]\n",
    "gg=df.Average_Cost_for_two.mask(df.Average_Cost_for_two.map(df.Average_Cost_for_two.value_counts(normalize=True)) < 0.005 ,'other').value_counts()\n",
    "gg.sort_index()"
   ]
  },
  {
   "cell_type": "code",
   "execution_count": 36,
   "id": "d0be19a9-ab1d-41a0-a5b4-48bae03096fd",
   "metadata": {},
   "outputs": [
    {
     "data": {
      "text/plain": [
       "140"
      ]
     },
     "execution_count": 36,
     "metadata": {},
     "output_type": "execute_result"
    }
   ],
   "source": [
    "df.Average_Cost_for_two.nunique()"
   ]
  },
  {
   "cell_type": "code",
   "execution_count": 46,
   "id": "bb7b1cd0-1f01-4448-a894-8aeb19301d41",
   "metadata": {},
   "outputs": [
    {
     "ename": "TypeError",
     "evalue": "int() argument must be a string, a bytes-like object or a number, not 'numpy.dtype[object_]'",
     "output_type": "error",
     "traceback": [
      "\u001b[0;31m---------------------------------------------------------------------------\u001b[0m",
      "\u001b[0;31mTypeError\u001b[0m                                 Traceback (most recent call last)",
      "Input \u001b[0;32mIn [47]\u001b[0m, in \u001b[0;36m<module>\u001b[0;34m\u001b[0m\n\u001b[0;32m----> 1\u001b[0m sn\u001b[38;5;241m.\u001b[39mhistplot(\u001b[43mnp\u001b[49m\u001b[38;5;241;43m.\u001b[39;49m\u001b[43mint16\u001b[49m\u001b[43m(\u001b[49m\u001b[43mdf\u001b[49m\u001b[38;5;241;43m.\u001b[39;49m\u001b[43mAverage_Cost_for_two\u001b[49m\u001b[38;5;241;43m.\u001b[39;49m\u001b[43mdtype\u001b[49m\u001b[43m)\u001b[49m)\n",
      "\u001b[0;31mTypeError\u001b[0m: int() argument must be a string, a bytes-like object or a number, not 'numpy.dtype[object_]'"
     ]
    }
   ],
   "source": [
    "sn.histplot(df.Average_Cost_for_two)"
   ]
  },
  {
   "cell_type": "code",
   "execution_count": null,
   "id": "7360cb6d-6ae7-4bef-aa4d-fb41a54c4eda",
   "metadata": {},
   "outputs": [],
   "source": [
    "def real_numbers_of_category():\n",
    "    "
   ]
  },
  {
   "cell_type": "code",
   "execution_count": 32,
   "id": "09b2d8de-3d9c-437f-9fdc-a7ea3d186377",
   "metadata": {},
   "outputs": [
    {
     "data": {
      "text/plain": [
       "Pounds(£)                80\n",
       "Brazilian Real(R$)        60\n",
       "Emirati Diram(AED)        60\n",
       "Rand(R)                   60\n",
       "NewZealand($)             40\n",
       "Turkish Lira(TL)          34\n",
       "Botswana Pula(P)          22\n",
       "Indonesian Rupiah(IDR)    21\n",
       "Qatari Rial(QR)           20\n",
       "Sri Lankan Rupee(LKR)     20\n",
       "4                          1\n",
       "Name: Currency, dtype: int64"
      ]
     },
     "execution_count": 32,
     "metadata": {},
     "output_type": "execute_result"
    }
   ],
   "source": [
    "c1=df.Currency.value_counts()\n",
    "# c1[c1 > c1.max()*0.05]\n",
    "c1[ c1 <= c1.max()*0.05 ]"
   ]
  },
  {
   "cell_type": "code",
   "execution_count": 18,
   "id": "1f996e35-8423-47bb-ba07-c793eb0d6568",
   "metadata": {},
   "outputs": [
    {
     "data": {
      "text/plain": [
       "5"
      ]
     },
     "execution_count": 18,
     "metadata": {},
     "output_type": "execute_result"
    }
   ],
   "source": [
    "all_freq_10(bb)"
   ]
  },
  {
   "cell_type": "code",
   "execution_count": 20,
   "id": "72da32cb-55f5-4f48-ac68-4491e8cfbea9",
   "metadata": {},
   "outputs": [
    {
     "data": {
      "text/plain": [
       "<AxesSubplot:xlabel='Average_Cost_for_two', ylabel='Count'>"
      ]
     },
     "execution_count": 20,
     "metadata": {},
     "output_type": "execute_result"
    },
    {
     "data": {
      "image/png": "[encoded data removed]",
      "text/plain": [
       "<Figure size 432x288 with 1 Axes>"
      ]
     },
     "metadata": {
      "needs_background": "light"
     },
     "output_type": "display_data"
    }
   ],
   "source": [
    "sn.histplot(bb,bins=5)"
   ]
  },
  {
   "cell_type": "code",
   "execution_count": 25,
   "id": "5c367675-b020-4ce6-947c-06761d8c6f88",
   "metadata": {},
   "outputs": [
    {
     "name": "stderr",
     "output_type": "stream",
     "text": [
      "/home/kar/.local/lib/python3.8/site-packages/seaborn/_decorators.py:36: FutureWarning: Pass the following variable as a keyword arg: x. From version 0.12, the only valid positional argument will be `data`, and passing other arguments without an explicit keyword will result in an error or misinterpretation.\n",
      "  warnings.warn(\n"
     ]
    },
    {
     "data": {
      "text/plain": [
       "<AxesSubplot:xlabel='Average_Cost_for_two'>"
      ]
     },
     "execution_count": 25,
     "metadata": {},
     "output_type": "execute_result"
    },
    {
     "data": {
      "image/png": "[encoded data removed]",
      "text/plain": [
       "<Figure size 432x288 with 1 Axes>"
      ]
     },
     "metadata": {
      "needs_background": "light"
     },
     "output_type": "display_data"
    }
   ],
   "source": [
    "sn.violinplot(bb)"
   ]
  },
  {
   "cell_type": "code",
   "execution_count": 4,
   "id": "652165c5-0d09-46f3-889e-7dc8c1fb6034",
   "metadata": {},
   "outputs": [
    {
     "name": "stderr",
     "output_type": "stream",
     "text": [
      "/tmp/ipykernel_12455/3243948675.py:1: FutureWarning: The default value of regex will change from True to False in a future version.\n",
      "  df.columns=df.columns.str.replace(\"[^A-Za-z]| \",\"_\")\n"
     ]
    }
   ],
   "source": [
    "df.columns=df.columns.str.replace(\"[^A-Za-z]| \",\"_\")"
   ]
  },
  {
   "cell_type": "code",
   "execution_count": 32,
   "id": "55802839-e376-4686-9130-0c52514ee702",
   "metadata": {},
   "outputs": [
    {
     "name": "stdout",
     "output_type": "stream",
     "text": [
      "<class 'pandas.core.frame.DataFrame'>\n",
      "RangeIndex: 9552 entries, 0 to 9551\n",
      "Data columns (total 22 columns):\n",
      " #   Column                Non-Null Count  Dtype  \n",
      "---  ------                --------------  -----  \n",
      " 0   Unnamed___            9552 non-null   object \n",
      " 1   Restaurant_ID         9552 non-null   object \n",
      " 2   Restaurant_Name       9552 non-null   object \n",
      " 3   Country_Code          9552 non-null   float64\n",
      " 4   City                  9552 non-null   object \n",
      " 5   Address               9552 non-null   object \n",
      " 6   Locality              9551 non-null   object \n",
      " 7   Locality_Verbose      9551 non-null   object \n",
      " 8   Longitude             9551 non-null   object \n",
      " 9   Latitude              9551 non-null   object \n",
      " 10  Cuisines              9542 non-null   object \n",
      " 11  Average_Cost_for_two  9551 non-null   object \n",
      " 12  Currency              9551 non-null   object \n",
      " 13  Has_Table_booking     9551 non-null   object \n",
      " 14  Has_Online_delivery   9551 non-null   object \n",
      " 15  Is_delivering_now     9551 non-null   object \n",
      " 16  Switch_to_order_menu  9551 non-null   object \n",
      " 17  Price_range           9550 non-null   float64\n",
      " 18  Aggregate_rating      9550 non-null   float64\n",
      " 19  Rating_color          9550 non-null   object \n",
      " 20  Rating_text           9550 non-null   object \n",
      " 21  Votes                 9550 non-null   float64\n",
      "dtypes: float64(4), object(18)\n",
      "memory usage: 1.6+ MB\n"
     ]
    }
   ],
   "source": [
    "df.info(verbose=True)"
   ]
  },
  {
   "cell_type": "code",
   "execution_count": 6,
   "id": "3399e27b-2421-4b06-aeb7-a2905cef955a",
   "metadata": {},
   "outputs": [],
   "source": [
    "dff=pd.read_excel(\"data/Zomatodataset/Country-Code.xlsx\")"
   ]
  },
  {
   "cell_type": "code",
   "execution_count": 7,
   "id": "1f856f06-4680-4455-b822-11a2f6b81da9",
   "metadata": {},
   "outputs": [
    {
     "data": {
      "text/html": [
       "<div>\n",
       "<style scoped>\n",
       "    .dataframe tbody tr th:only-of-type {\n",
       "        vertical-align: middle;\n",
       "    }\n",
       "\n",
       "    .dataframe tbody tr th {\n",
       "        vertical-align: top;\n",
       "    }\n",
       "\n",
       "    .dataframe thead th {\n",
       "        text-align: right;\n",
       "    }\n",
       "</style>\n",
       "<table border=\"1\" class=\"dataframe\">\n",
       "  <thead>\n",
       "    <tr style=\"text-align: right;\">\n",
       "      <th></th>\n",
       "      <th>Country Code</th>\n",
       "      <th>Country</th>\n",
       "    </tr>\n",
       "  </thead>\n",
       "  <tbody>\n",
       "    <tr>\n",
       "      <th>0</th>\n",
       "      <td>1</td>\n",
       "      <td>India</td>\n",
       "    </tr>\n",
       "    <tr>\n",
       "      <th>1</th>\n",
       "      <td>14</td>\n",
       "      <td>Australia</td>\n",
       "    </tr>\n",
       "    <tr>\n",
       "      <th>2</th>\n",
       "      <td>30</td>\n",
       "      <td>Brazil</td>\n",
       "    </tr>\n",
       "    <tr>\n",
       "      <th>3</th>\n",
       "      <td>37</td>\n",
       "      <td>Canada</td>\n",
       "    </tr>\n",
       "    <tr>\n",
       "      <th>4</th>\n",
       "      <td>94</td>\n",
       "      <td>Indonesia</td>\n",
       "    </tr>\n",
       "    <tr>\n",
       "      <th>5</th>\n",
       "      <td>148</td>\n",
       "      <td>New Zealand</td>\n",
       "    </tr>\n",
       "    <tr>\n",
       "      <th>6</th>\n",
       "      <td>162</td>\n",
       "      <td>Phillipines</td>\n",
       "    </tr>\n",
       "    <tr>\n",
       "      <th>7</th>\n",
       "      <td>166</td>\n",
       "      <td>Qatar</td>\n",
       "    </tr>\n",
       "    <tr>\n",
       "      <th>8</th>\n",
       "      <td>184</td>\n",
       "      <td>Singapore</td>\n",
       "    </tr>\n",
       "    <tr>\n",
       "      <th>9</th>\n",
       "      <td>189</td>\n",
       "      <td>South Africa</td>\n",
       "    </tr>\n",
       "    <tr>\n",
       "      <th>10</th>\n",
       "      <td>191</td>\n",
       "      <td>Sri Lanka</td>\n",
       "    </tr>\n",
       "    <tr>\n",
       "      <th>11</th>\n",
       "      <td>208</td>\n",
       "      <td>Turkey</td>\n",
       "    </tr>\n",
       "    <tr>\n",
       "      <th>12</th>\n",
       "      <td>214</td>\n",
       "      <td>UAE</td>\n",
       "    </tr>\n",
       "    <tr>\n",
       "      <th>13</th>\n",
       "      <td>215</td>\n",
       "      <td>United Kingdom</td>\n",
       "    </tr>\n",
       "    <tr>\n",
       "      <th>14</th>\n",
       "      <td>216</td>\n",
       "      <td>United States</td>\n",
       "    </tr>\n",
       "  </tbody>\n",
       "</table>\n",
       "</div>"
      ],
      "text/plain": [
       "    Country Code         Country\n",
       "0              1           India\n",
       "1             14       Australia\n",
       "2             30          Brazil\n",
       "3             37          Canada\n",
       "4             94       Indonesia\n",
       "5            148     New Zealand\n",
       "6            162     Phillipines\n",
       "7            166           Qatar\n",
       "8            184       Singapore\n",
       "9            189    South Africa\n",
       "10           191       Sri Lanka\n",
       "11           208          Turkey\n",
       "12           214             UAE\n",
       "13           215  United Kingdom\n",
       "14           216   United States"
      ]
     },
     "execution_count": 7,
     "metadata": {},
     "output_type": "execute_result"
    }
   ],
   "source": [
    "dff"
   ]
  },
  {
   "cell_type": "code",
   "execution_count": 8,
   "id": "fa8a93fc-20d0-450c-bc73-f39ccef1ca36",
   "metadata": {},
   "outputs": [],
   "source": [
    "dd=pd.merge(df,dff,on=\"Country Code\",how=\"left\")"
   ]
  },
  {
   "cell_type": "code",
   "execution_count": 9,
   "id": "e030afad-e074-4e14-bebc-972968670a71",
   "metadata": {},
   "outputs": [
    {
     "data": {
      "text/html": [
       "<div>\n",
       "<style scoped>\n",
       "    .dataframe tbody tr th:only-of-type {\n",
       "        vertical-align: middle;\n",
       "    }\n",
       "\n",
       "    .dataframe tbody tr th {\n",
       "        vertical-align: top;\n",
       "    }\n",
       "\n",
       "    .dataframe thead th {\n",
       "        text-align: right;\n",
       "    }\n",
       "</style>\n",
       "<table border=\"1\" class=\"dataframe\">\n",
       "  <thead>\n",
       "    <tr style=\"text-align: right;\">\n",
       "      <th></th>\n",
       "      <th>Restaurant ID</th>\n",
       "      <th>Restaurant Name</th>\n",
       "      <th>Country Code</th>\n",
       "      <th>City</th>\n",
       "      <th>Address</th>\n",
       "      <th>Locality</th>\n",
       "      <th>Locality Verbose</th>\n",
       "      <th>Longitude</th>\n",
       "      <th>Latitude</th>\n",
       "      <th>Cuisines</th>\n",
       "      <th>...</th>\n",
       "      <th>Has Table booking</th>\n",
       "      <th>Has Online delivery</th>\n",
       "      <th>Is delivering now</th>\n",
       "      <th>Switch to order menu</th>\n",
       "      <th>Price range</th>\n",
       "      <th>Aggregate rating</th>\n",
       "      <th>Rating color</th>\n",
       "      <th>Rating text</th>\n",
       "      <th>Votes</th>\n",
       "      <th>Country</th>\n",
       "    </tr>\n",
       "  </thead>\n",
       "  <tbody>\n",
       "    <tr>\n",
       "      <th>0</th>\n",
       "      <td>6317637</td>\n",
       "      <td>Le Petit Souffle</td>\n",
       "      <td>162</td>\n",
       "      <td>Makati City</td>\n",
       "      <td>Third Floor, Century City Mall, Kalayaan Avenu...</td>\n",
       "      <td>Century City Mall, Poblacion, Makati City</td>\n",
       "      <td>Century City Mall, Poblacion, Makati City, Mak...</td>\n",
       "      <td>121.027535</td>\n",
       "      <td>14.565443</td>\n",
       "      <td>French, Japanese, Desserts</td>\n",
       "      <td>...</td>\n",
       "      <td>Yes</td>\n",
       "      <td>No</td>\n",
       "      <td>No</td>\n",
       "      <td>No</td>\n",
       "      <td>3</td>\n",
       "      <td>4.8</td>\n",
       "      <td>Dark Green</td>\n",
       "      <td>Excellent</td>\n",
       "      <td>314</td>\n",
       "      <td>Phillipines</td>\n",
       "    </tr>\n",
       "    <tr>\n",
       "      <th>1</th>\n",
       "      <td>6304287</td>\n",
       "      <td>Izakaya Kikufuji</td>\n",
       "      <td>162</td>\n",
       "      <td>Makati City</td>\n",
       "      <td>Little Tokyo, 2277 Chino Roces Avenue, Legaspi...</td>\n",
       "      <td>Little Tokyo, Legaspi Village, Makati City</td>\n",
       "      <td>Little Tokyo, Legaspi Village, Makati City, Ma...</td>\n",
       "      <td>121.014101</td>\n",
       "      <td>14.553708</td>\n",
       "      <td>Japanese</td>\n",
       "      <td>...</td>\n",
       "      <td>Yes</td>\n",
       "      <td>No</td>\n",
       "      <td>No</td>\n",
       "      <td>No</td>\n",
       "      <td>3</td>\n",
       "      <td>4.5</td>\n",
       "      <td>Dark Green</td>\n",
       "      <td>Excellent</td>\n",
       "      <td>591</td>\n",
       "      <td>Phillipines</td>\n",
       "    </tr>\n",
       "    <tr>\n",
       "      <th>2</th>\n",
       "      <td>6300002</td>\n",
       "      <td>Heat - Edsa Shangri-La</td>\n",
       "      <td>162</td>\n",
       "      <td>Mandaluyong City</td>\n",
       "      <td>Edsa Shangri-La, 1 Garden Way, Ortigas, Mandal...</td>\n",
       "      <td>Edsa Shangri-La, Ortigas, Mandaluyong City</td>\n",
       "      <td>Edsa Shangri-La, Ortigas, Mandaluyong City, Ma...</td>\n",
       "      <td>121.056831</td>\n",
       "      <td>14.581404</td>\n",
       "      <td>Seafood, Asian, Filipino, Indian</td>\n",
       "      <td>...</td>\n",
       "      <td>Yes</td>\n",
       "      <td>No</td>\n",
       "      <td>No</td>\n",
       "      <td>No</td>\n",
       "      <td>4</td>\n",
       "      <td>4.4</td>\n",
       "      <td>Green</td>\n",
       "      <td>Very Good</td>\n",
       "      <td>270</td>\n",
       "      <td>Phillipines</td>\n",
       "    </tr>\n",
       "    <tr>\n",
       "      <th>3</th>\n",
       "      <td>6318506</td>\n",
       "      <td>Ooma</td>\n",
       "      <td>162</td>\n",
       "      <td>Mandaluyong City</td>\n",
       "      <td>Third Floor, Mega Fashion Hall, SM Megamall, O...</td>\n",
       "      <td>SM Megamall, Ortigas, Mandaluyong City</td>\n",
       "      <td>SM Megamall, Ortigas, Mandaluyong City, Mandal...</td>\n",
       "      <td>121.056475</td>\n",
       "      <td>14.585318</td>\n",
       "      <td>Japanese, Sushi</td>\n",
       "      <td>...</td>\n",
       "      <td>No</td>\n",
       "      <td>No</td>\n",
       "      <td>No</td>\n",
       "      <td>No</td>\n",
       "      <td>4</td>\n",
       "      <td>4.9</td>\n",
       "      <td>Dark Green</td>\n",
       "      <td>Excellent</td>\n",
       "      <td>365</td>\n",
       "      <td>Phillipines</td>\n",
       "    </tr>\n",
       "    <tr>\n",
       "      <th>4</th>\n",
       "      <td>6314302</td>\n",
       "      <td>Sambo Kojin</td>\n",
       "      <td>162</td>\n",
       "      <td>Mandaluyong City</td>\n",
       "      <td>Third Floor, Mega Atrium, SM Megamall, Ortigas...</td>\n",
       "      <td>SM Megamall, Ortigas, Mandaluyong City</td>\n",
       "      <td>SM Megamall, Ortigas, Mandaluyong City, Mandal...</td>\n",
       "      <td>121.057508</td>\n",
       "      <td>14.584450</td>\n",
       "      <td>Japanese, Korean</td>\n",
       "      <td>...</td>\n",
       "      <td>Yes</td>\n",
       "      <td>No</td>\n",
       "      <td>No</td>\n",
       "      <td>No</td>\n",
       "      <td>4</td>\n",
       "      <td>4.8</td>\n",
       "      <td>Dark Green</td>\n",
       "      <td>Excellent</td>\n",
       "      <td>229</td>\n",
       "      <td>Phillipines</td>\n",
       "    </tr>\n",
       "  </tbody>\n",
       "</table>\n",
       "<p>5 rows × 22 columns</p>\n",
       "</div>"
      ],
      "text/plain": [
       "   Restaurant ID         Restaurant Name  Country Code              City  \\\n",
       "0        6317637        Le Petit Souffle           162       Makati City   \n",
       "1        6304287        Izakaya Kikufuji           162       Makati City   \n",
       "2        6300002  Heat - Edsa Shangri-La           162  Mandaluyong City   \n",
       "3        6318506                    Ooma           162  Mandaluyong City   \n",
       "4        6314302             Sambo Kojin           162  Mandaluyong City   \n",
       "\n",
       "                                             Address  \\\n",
       "0  Third Floor, Century City Mall, Kalayaan Avenu...   \n",
       "1  Little Tokyo, 2277 Chino Roces Avenue, Legaspi...   \n",
       "2  Edsa Shangri-La, 1 Garden Way, Ortigas, Mandal...   \n",
       "3  Third Floor, Mega Fashion Hall, SM Megamall, O...   \n",
       "4  Third Floor, Mega Atrium, SM Megamall, Ortigas...   \n",
       "\n",
       "                                     Locality  \\\n",
       "0   Century City Mall, Poblacion, Makati City   \n",
       "1  Little Tokyo, Legaspi Village, Makati City   \n",
       "2  Edsa Shangri-La, Ortigas, Mandaluyong City   \n",
       "3      SM Megamall, Ortigas, Mandaluyong City   \n",
       "4      SM Megamall, Ortigas, Mandaluyong City   \n",
       "\n",
       "                                    Locality Verbose   Longitude   Latitude  \\\n",
       "0  Century City Mall, Poblacion, Makati City, Mak...  121.027535  14.565443   \n",
       "1  Little Tokyo, Legaspi Village, Makati City, Ma...  121.014101  14.553708   \n",
       "2  Edsa Shangri-La, Ortigas, Mandaluyong City, Ma...  121.056831  14.581404   \n",
       "3  SM Megamall, Ortigas, Mandaluyong City, Mandal...  121.056475  14.585318   \n",
       "4  SM Megamall, Ortigas, Mandaluyong City, Mandal...  121.057508  14.584450   \n",
       "\n",
       "                           Cuisines  ...  Has Table booking  \\\n",
       "0        French, Japanese, Desserts  ...                Yes   \n",
       "1                          Japanese  ...                Yes   \n",
       "2  Seafood, Asian, Filipino, Indian  ...                Yes   \n",
       "3                   Japanese, Sushi  ...                 No   \n",
       "4                  Japanese, Korean  ...                Yes   \n",
       "\n",
       "  Has Online delivery Is delivering now Switch to order menu Price range  \\\n",
       "0                  No                No                   No           3   \n",
       "1                  No                No                   No           3   \n",
       "2                  No                No                   No           4   \n",
       "3                  No                No                   No           4   \n",
       "4                  No                No                   No           4   \n",
       "\n",
       "  Aggregate rating  Rating color  Rating text Votes      Country  \n",
       "0              4.8    Dark Green    Excellent   314  Phillipines  \n",
       "1              4.5    Dark Green    Excellent   591  Phillipines  \n",
       "2              4.4         Green    Very Good   270  Phillipines  \n",
       "3              4.9    Dark Green    Excellent   365  Phillipines  \n",
       "4              4.8    Dark Green    Excellent   229  Phillipines  \n",
       "\n",
       "[5 rows x 22 columns]"
      ]
     },
     "execution_count": 9,
     "metadata": {},
     "output_type": "execute_result"
    }
   ],
   "source": [
    "dd.head()"
   ]
  },
  {
   "cell_type": "code",
   "execution_count": 10,
   "id": "c904eadb-0806-4a71-a933-4e110c892b36",
   "metadata": {},
   "outputs": [
    {
     "data": {
      "text/plain": [
       "Index(['India', 'United States', 'United Kingdom', 'Brazil', 'UAE',\n",
       "       'South Africa', 'New Zealand', 'Turkey', 'Australia', 'Phillipines',\n",
       "       'Indonesia', 'Singapore', 'Qatar', 'Sri Lanka', 'Canada'],\n",
       "      dtype='object')"
      ]
     },
     "execution_count": 10,
     "metadata": {},
     "output_type": "execute_result"
    }
   ],
   "source": [
    "dd.Country.value_counts().index"
   ]
  },
  {
   "cell_type": "code",
   "execution_count": 11,
   "id": "601ce194-5c86-443f-a242-f2c507130d15",
   "metadata": {},
   "outputs": [],
   "source": [
    "x=dd.Country.value_counts().values\n",
    "y=dd.Country.value_counts().index"
   ]
  },
  {
   "cell_type": "code",
   "execution_count": 12,
   "id": "ec3c8de6-c922-48ae-8cd7-4cebc317b22d",
   "metadata": {},
   "outputs": [
    {
     "data": {
      "text/plain": [
       "<AxesSubplot:>"
      ]
     },
     "execution_count": 12,
     "metadata": {},
     "output_type": "execute_result"
    },
    {
     "data": {
      "image/png": "[encoded data removed]",
      "text/plain": [
       "<Figure size 864x432 with 1 Axes>"
      ]
     },
     "metadata": {
      "needs_background": "light"
     },
     "output_type": "display_data"
    }
   ],
   "source": [
    "sn.barplot(x=x[:3],y=y[:3])"
   ]
  },
  {
   "cell_type": "code",
   "execution_count": 13,
   "id": "2cf9e79e-a345-4399-b2d8-d50034744e4e",
   "metadata": {},
   "outputs": [
    {
     "data": {
      "text/plain": [
       "([<matplotlib.patches.Wedge at 0x7f76a2c6b130>,\n",
       "  <matplotlib.patches.Wedge at 0x7f76a2c6b850>,\n",
       "  <matplotlib.patches.Wedge at 0x7f76a2c6bf70>],\n",
       " [Text(-1.0829742700952103, 0.19278674827836725, 'India'),\n",
       "  Text(1.077281715838356, -0.22240527134123297, 'United States'),\n",
       "  Text(1.0995865153823035, -0.03015783794312073, 'United Kingdom')],\n",
       " [Text(-0.590713238233751, 0.10515640815183668, '94.392%'),\n",
       "  Text(0.5876082086391032, -0.12131196618612707, '4.735%'),\n",
       "  Text(0.5997744629358018, -0.01644972978715676, '0.873%')])"
      ]
     },
     "execution_count": 13,
     "metadata": {},
     "output_type": "execute_result"
    },
    {
     "data": {
      "image/png": "[encoded data removed]",
      "text/plain": [
       "<Figure size 864x432 with 1 Axes>"
      ]
     },
     "metadata": {},
     "output_type": "display_data"
    }
   ],
   "source": [
    "pl.pie(x=x[:3],labels=y[:3],autopct='%1.3f%%')"
   ]
  },
  {
   "cell_type": "code",
   "execution_count": 14,
   "id": "e38f8580-a7a3-4da1-9894-7833508fb9aa",
   "metadata": {},
   "outputs": [
    {
     "data": {
      "text/plain": [
       "<BarContainer object of 3 artists>"
      ]
     },
     "execution_count": 14,
     "metadata": {},
     "output_type": "execute_result"
    },
    {
     "data": {
      "image/png": "[encoded data removed]",
      "text/plain": [
       "<Figure size 864x432 with 1 Axes>"
      ]
     },
     "metadata": {
      "needs_background": "light"
     },
     "output_type": "display_data"
    }
   ],
   "source": [
    "pl.bar(y[:3],height=x[:3])"
   ]
  },
  {
   "cell_type": "code",
   "execution_count": 15,
   "id": "2a50b6ba-a9d1-4e9a-ac9b-63722dd3dbc2",
   "metadata": {},
   "outputs": [
    {
     "data": {
      "text/plain": [
       "Index(['Restaurant ID', 'Restaurant Name', 'Country Code', 'City', 'Address',\n",
       "       'Locality', 'Locality Verbose', 'Longitude', 'Latitude', 'Cuisines',\n",
       "       'Average Cost for two', 'Currency', 'Has Table booking',\n",
       "       'Has Online delivery', 'Is delivering now', 'Switch to order menu',\n",
       "       'Price range', 'Aggregate rating', 'Rating color', 'Rating text',\n",
       "       'Votes', 'Country'],\n",
       "      dtype='object')"
      ]
     },
     "execution_count": 15,
     "metadata": {},
     "output_type": "execute_result"
    }
   ],
   "source": [
    "dd.columns"
   ]
  },
  {
   "cell_type": "code",
   "execution_count": 16,
   "id": "bde803f3-a828-4d95-ab0a-a8430ae741d9",
   "metadata": {},
   "outputs": [],
   "source": [
    "xx=dd.groupby(['Aggregate rating','Rating color', 'Rating text']).size().reset_index().rename(columns={0:'Rating_count'})"
   ]
  },
  {
   "cell_type": "code",
   "execution_count": 17,
   "id": "0b33608f-623f-48c0-ba64-09fe665280cc",
   "metadata": {},
   "outputs": [
    {
     "data": {
      "text/html": [
       "<div>\n",
       "<style scoped>\n",
       "    .dataframe tbody tr th:only-of-type {\n",
       "        vertical-align: middle;\n",
       "    }\n",
       "\n",
       "    .dataframe tbody tr th {\n",
       "        vertical-align: top;\n",
       "    }\n",
       "\n",
       "    .dataframe thead th {\n",
       "        text-align: right;\n",
       "    }\n",
       "</style>\n",
       "<table border=\"1\" class=\"dataframe\">\n",
       "  <thead>\n",
       "    <tr style=\"text-align: right;\">\n",
       "      <th></th>\n",
       "      <th>Aggregate rating</th>\n",
       "      <th>Rating color</th>\n",
       "      <th>Rating text</th>\n",
       "      <th>Rating_count</th>\n",
       "    </tr>\n",
       "  </thead>\n",
       "  <tbody>\n",
       "    <tr>\n",
       "      <th>0</th>\n",
       "      <td>0.0</td>\n",
       "      <td>White</td>\n",
       "      <td>Not rated</td>\n",
       "      <td>2148</td>\n",
       "    </tr>\n",
       "    <tr>\n",
       "      <th>1</th>\n",
       "      <td>1.8</td>\n",
       "      <td>Red</td>\n",
       "      <td>Poor</td>\n",
       "      <td>1</td>\n",
       "    </tr>\n",
       "    <tr>\n",
       "      <th>2</th>\n",
       "      <td>1.9</td>\n",
       "      <td>Red</td>\n",
       "      <td>Poor</td>\n",
       "      <td>2</td>\n",
       "    </tr>\n",
       "    <tr>\n",
       "      <th>3</th>\n",
       "      <td>2.0</td>\n",
       "      <td>Red</td>\n",
       "      <td>Poor</td>\n",
       "      <td>7</td>\n",
       "    </tr>\n",
       "    <tr>\n",
       "      <th>4</th>\n",
       "      <td>2.1</td>\n",
       "      <td>Red</td>\n",
       "      <td>Poor</td>\n",
       "      <td>15</td>\n",
       "    </tr>\n",
       "    <tr>\n",
       "      <th>5</th>\n",
       "      <td>2.2</td>\n",
       "      <td>Red</td>\n",
       "      <td>Poor</td>\n",
       "      <td>27</td>\n",
       "    </tr>\n",
       "    <tr>\n",
       "      <th>6</th>\n",
       "      <td>2.3</td>\n",
       "      <td>Red</td>\n",
       "      <td>Poor</td>\n",
       "      <td>47</td>\n",
       "    </tr>\n",
       "    <tr>\n",
       "      <th>7</th>\n",
       "      <td>2.4</td>\n",
       "      <td>Red</td>\n",
       "      <td>Poor</td>\n",
       "      <td>87</td>\n",
       "    </tr>\n",
       "    <tr>\n",
       "      <th>8</th>\n",
       "      <td>2.5</td>\n",
       "      <td>Orange</td>\n",
       "      <td>Average</td>\n",
       "      <td>110</td>\n",
       "    </tr>\n",
       "    <tr>\n",
       "      <th>9</th>\n",
       "      <td>2.6</td>\n",
       "      <td>Orange</td>\n",
       "      <td>Average</td>\n",
       "      <td>191</td>\n",
       "    </tr>\n",
       "    <tr>\n",
       "      <th>10</th>\n",
       "      <td>2.7</td>\n",
       "      <td>Orange</td>\n",
       "      <td>Average</td>\n",
       "      <td>250</td>\n",
       "    </tr>\n",
       "    <tr>\n",
       "      <th>11</th>\n",
       "      <td>2.8</td>\n",
       "      <td>Orange</td>\n",
       "      <td>Average</td>\n",
       "      <td>315</td>\n",
       "    </tr>\n",
       "    <tr>\n",
       "      <th>12</th>\n",
       "      <td>2.9</td>\n",
       "      <td>Orange</td>\n",
       "      <td>Average</td>\n",
       "      <td>381</td>\n",
       "    </tr>\n",
       "    <tr>\n",
       "      <th>13</th>\n",
       "      <td>3.0</td>\n",
       "      <td>Orange</td>\n",
       "      <td>Average</td>\n",
       "      <td>468</td>\n",
       "    </tr>\n",
       "    <tr>\n",
       "      <th>14</th>\n",
       "      <td>3.1</td>\n",
       "      <td>Orange</td>\n",
       "      <td>Average</td>\n",
       "      <td>519</td>\n",
       "    </tr>\n",
       "    <tr>\n",
       "      <th>15</th>\n",
       "      <td>3.2</td>\n",
       "      <td>Orange</td>\n",
       "      <td>Average</td>\n",
       "      <td>522</td>\n",
       "    </tr>\n",
       "    <tr>\n",
       "      <th>16</th>\n",
       "      <td>3.3</td>\n",
       "      <td>Orange</td>\n",
       "      <td>Average</td>\n",
       "      <td>483</td>\n",
       "    </tr>\n",
       "    <tr>\n",
       "      <th>17</th>\n",
       "      <td>3.4</td>\n",
       "      <td>Orange</td>\n",
       "      <td>Average</td>\n",
       "      <td>498</td>\n",
       "    </tr>\n",
       "    <tr>\n",
       "      <th>18</th>\n",
       "      <td>3.5</td>\n",
       "      <td>Yellow</td>\n",
       "      <td>Good</td>\n",
       "      <td>480</td>\n",
       "    </tr>\n",
       "    <tr>\n",
       "      <th>19</th>\n",
       "      <td>3.6</td>\n",
       "      <td>Yellow</td>\n",
       "      <td>Good</td>\n",
       "      <td>458</td>\n",
       "    </tr>\n",
       "    <tr>\n",
       "      <th>20</th>\n",
       "      <td>3.7</td>\n",
       "      <td>Yellow</td>\n",
       "      <td>Good</td>\n",
       "      <td>427</td>\n",
       "    </tr>\n",
       "    <tr>\n",
       "      <th>21</th>\n",
       "      <td>3.8</td>\n",
       "      <td>Yellow</td>\n",
       "      <td>Good</td>\n",
       "      <td>400</td>\n",
       "    </tr>\n",
       "    <tr>\n",
       "      <th>22</th>\n",
       "      <td>3.9</td>\n",
       "      <td>Yellow</td>\n",
       "      <td>Good</td>\n",
       "      <td>335</td>\n",
       "    </tr>\n",
       "    <tr>\n",
       "      <th>23</th>\n",
       "      <td>4.0</td>\n",
       "      <td>Green</td>\n",
       "      <td>Very Good</td>\n",
       "      <td>266</td>\n",
       "    </tr>\n",
       "    <tr>\n",
       "      <th>24</th>\n",
       "      <td>4.1</td>\n",
       "      <td>Green</td>\n",
       "      <td>Very Good</td>\n",
       "      <td>274</td>\n",
       "    </tr>\n",
       "    <tr>\n",
       "      <th>25</th>\n",
       "      <td>4.2</td>\n",
       "      <td>Green</td>\n",
       "      <td>Very Good</td>\n",
       "      <td>221</td>\n",
       "    </tr>\n",
       "    <tr>\n",
       "      <th>26</th>\n",
       "      <td>4.3</td>\n",
       "      <td>Green</td>\n",
       "      <td>Very Good</td>\n",
       "      <td>174</td>\n",
       "    </tr>\n",
       "    <tr>\n",
       "      <th>27</th>\n",
       "      <td>4.4</td>\n",
       "      <td>Green</td>\n",
       "      <td>Very Good</td>\n",
       "      <td>144</td>\n",
       "    </tr>\n",
       "    <tr>\n",
       "      <th>28</th>\n",
       "      <td>4.5</td>\n",
       "      <td>Dark Green</td>\n",
       "      <td>Excellent</td>\n",
       "      <td>95</td>\n",
       "    </tr>\n",
       "    <tr>\n",
       "      <th>29</th>\n",
       "      <td>4.6</td>\n",
       "      <td>Dark Green</td>\n",
       "      <td>Excellent</td>\n",
       "      <td>78</td>\n",
       "    </tr>\n",
       "    <tr>\n",
       "      <th>30</th>\n",
       "      <td>4.7</td>\n",
       "      <td>Dark Green</td>\n",
       "      <td>Excellent</td>\n",
       "      <td>42</td>\n",
       "    </tr>\n",
       "    <tr>\n",
       "      <th>31</th>\n",
       "      <td>4.8</td>\n",
       "      <td>Dark Green</td>\n",
       "      <td>Excellent</td>\n",
       "      <td>25</td>\n",
       "    </tr>\n",
       "    <tr>\n",
       "      <th>32</th>\n",
       "      <td>4.9</td>\n",
       "      <td>Dark Green</td>\n",
       "      <td>Excellent</td>\n",
       "      <td>61</td>\n",
       "    </tr>\n",
       "  </tbody>\n",
       "</table>\n",
       "</div>"
      ],
      "text/plain": [
       "    Aggregate rating Rating color Rating text  Rating_count\n",
       "0                0.0        White   Not rated          2148\n",
       "1                1.8          Red        Poor             1\n",
       "2                1.9          Red        Poor             2\n",
       "3                2.0          Red        Poor             7\n",
       "4                2.1          Red        Poor            15\n",
       "5                2.2          Red        Poor            27\n",
       "6                2.3          Red        Poor            47\n",
       "7                2.4          Red        Poor            87\n",
       "8                2.5       Orange     Average           110\n",
       "9                2.6       Orange     Average           191\n",
       "10               2.7       Orange     Average           250\n",
       "11               2.8       Orange     Average           315\n",
       "12               2.9       Orange     Average           381\n",
       "13               3.0       Orange     Average           468\n",
       "14               3.1       Orange     Average           519\n",
       "15               3.2       Orange     Average           522\n",
       "16               3.3       Orange     Average           483\n",
       "17               3.4       Orange     Average           498\n",
       "18               3.5       Yellow        Good           480\n",
       "19               3.6       Yellow        Good           458\n",
       "20               3.7       Yellow        Good           427\n",
       "21               3.8       Yellow        Good           400\n",
       "22               3.9       Yellow        Good           335\n",
       "23               4.0        Green   Very Good           266\n",
       "24               4.1        Green   Very Good           274\n",
       "25               4.2        Green   Very Good           221\n",
       "26               4.3        Green   Very Good           174\n",
       "27               4.4        Green   Very Good           144\n",
       "28               4.5   Dark Green   Excellent            95\n",
       "29               4.6   Dark Green   Excellent            78\n",
       "30               4.7   Dark Green   Excellent            42\n",
       "31               4.8   Dark Green   Excellent            25\n",
       "32               4.9   Dark Green   Excellent            61"
      ]
     },
     "execution_count": 17,
     "metadata": {},
     "output_type": "execute_result"
    }
   ],
   "source": [
    "xx"
   ]
  },
  {
   "cell_type": "code",
   "execution_count": 18,
   "id": "97e3f7f7-7438-48f1-af48-6faeff440f3b",
   "metadata": {},
   "outputs": [
    {
     "data": {
      "text/plain": [
       "<AxesSubplot:xlabel='Aggregate rating', ylabel='Rating_count'>"
      ]
     },
     "execution_count": 18,
     "metadata": {},
     "output_type": "execute_result"
    },
    {
     "data": {
      "image/png": "[encoded data removed]",
      "text/plain": [
       "<Figure size 864x432 with 1 Axes>"
      ]
     },
     "metadata": {
      "needs_background": "light"
     },
     "output_type": "display_data"
    }
   ],
   "source": [
    "sn.barplot(y=xx.Rating_count,x=xx[\"Aggregate rating\"],hue=xx['Rating color'],palette=['grey','red','orange','yellow','green','darkgreen'])"
   ]
  },
  {
   "cell_type": "code",
   "execution_count": 19,
   "id": "b43dfc7b-79e7-4bf6-b810-3001c290c0a0",
   "metadata": {},
   "outputs": [
    {
     "data": {
      "text/plain": [
       "<AxesSubplot:xlabel='Rating color', ylabel='Rating_count'>"
      ]
     },
     "execution_count": 19,
     "metadata": {},
     "output_type": "execute_result"
    },
    {
     "data": {
      "image/png": "[encoded data removed]",
      "text/plain": [
       "<Figure size 864x432 with 1 Axes>"
      ]
     },
     "metadata": {
      "needs_background": "light"
     },
     "output_type": "display_data"
    }
   ],
   "source": [
    "sn.histplot(x=xx[\"Rating color\"],y=xx.Rating_count)"
   ]
  },
  {
   "cell_type": "markdown",
   "id": "b177bb7f-1996-445b-b9a2-efc6f0a8c999",
   "metadata": {},
   "source": [
    "### orange is most rating recived"
   ]
  },
  {
   "cell_type": "code",
   "execution_count": 20,
   "id": "dc09fe9b-910e-4eb8-a1de-d6264aa8b87c",
   "metadata": {},
   "outputs": [],
   "source": [
    "xc=dd.groupby([\"Country\",'Rating color', 'Rating text']).size().reset_index().rename(columns={0:'Rating_count'})"
   ]
  },
  {
   "cell_type": "code",
   "execution_count": 21,
   "id": "4996d98f-3952-4bd3-85ea-f42260020b48",
   "metadata": {},
   "outputs": [
    {
     "data": {
      "text/html": [
       "<div>\n",
       "<style scoped>\n",
       "    .dataframe tbody tr th:only-of-type {\n",
       "        vertical-align: middle;\n",
       "    }\n",
       "\n",
       "    .dataframe tbody tr th {\n",
       "        vertical-align: top;\n",
       "    }\n",
       "\n",
       "    .dataframe thead th {\n",
       "        text-align: right;\n",
       "    }\n",
       "</style>\n",
       "<table border=\"1\" class=\"dataframe\">\n",
       "  <thead>\n",
       "    <tr style=\"text-align: right;\">\n",
       "      <th></th>\n",
       "      <th>Country</th>\n",
       "      <th>Rating color</th>\n",
       "      <th>Rating text</th>\n",
       "      <th>Rating_count</th>\n",
       "    </tr>\n",
       "  </thead>\n",
       "  <tbody>\n",
       "    <tr>\n",
       "      <th>8</th>\n",
       "      <td>Brazil</td>\n",
       "      <td>White</td>\n",
       "      <td>Not rated</td>\n",
       "      <td>5</td>\n",
       "    </tr>\n",
       "    <tr>\n",
       "      <th>17</th>\n",
       "      <td>India</td>\n",
       "      <td>White</td>\n",
       "      <td>Not rated</td>\n",
       "      <td>2139</td>\n",
       "    </tr>\n",
       "    <tr>\n",
       "      <th>58</th>\n",
       "      <td>United Kingdom</td>\n",
       "      <td>White</td>\n",
       "      <td>Not rated</td>\n",
       "      <td>1</td>\n",
       "    </tr>\n",
       "    <tr>\n",
       "      <th>64</th>\n",
       "      <td>United States</td>\n",
       "      <td>White</td>\n",
       "      <td>Not rated</td>\n",
       "      <td>3</td>\n",
       "    </tr>\n",
       "  </tbody>\n",
       "</table>\n",
       "</div>"
      ],
      "text/plain": [
       "           Country Rating color Rating text  Rating_count\n",
       "8           Brazil        White   Not rated             5\n",
       "17           India        White   Not rated          2139\n",
       "58  United Kingdom        White   Not rated             1\n",
       "64   United States        White   Not rated             3"
      ]
     },
     "execution_count": 21,
     "metadata": {},
     "output_type": "execute_result"
    }
   ],
   "source": [
    "xc[xc[\"Rating text\"] == \"Not rated\"]"
   ]
  },
  {
   "cell_type": "code",
   "execution_count": 22,
   "id": "1d63fc03-26e6-4702-a3e8-259bcde58a4c",
   "metadata": {},
   "outputs": [
    {
     "data": {
      "text/html": [
       "<div>\n",
       "<style scoped>\n",
       "    .dataframe tbody tr th:only-of-type {\n",
       "        vertical-align: middle;\n",
       "    }\n",
       "\n",
       "    .dataframe tbody tr th {\n",
       "        vertical-align: top;\n",
       "    }\n",
       "\n",
       "    .dataframe thead th {\n",
       "        text-align: right;\n",
       "    }\n",
       "</style>\n",
       "<table border=\"1\" class=\"dataframe\">\n",
       "  <thead>\n",
       "    <tr style=\"text-align: right;\">\n",
       "      <th></th>\n",
       "      <th>Currency</th>\n",
       "      <th>Country</th>\n",
       "    </tr>\n",
       "  </thead>\n",
       "  <tbody>\n",
       "    <tr>\n",
       "      <th>0</th>\n",
       "      <td>Botswana Pula(P)</td>\n",
       "      <td>Phillipines</td>\n",
       "    </tr>\n",
       "    <tr>\n",
       "      <th>22</th>\n",
       "      <td>Brazilian Real(R$)</td>\n",
       "      <td>Brazil</td>\n",
       "    </tr>\n",
       "    <tr>\n",
       "      <th>82</th>\n",
       "      <td>Dollar($)</td>\n",
       "      <td>United States</td>\n",
       "    </tr>\n",
       "    <tr>\n",
       "      <th>102</th>\n",
       "      <td>Dollar($)</td>\n",
       "      <td>Australia</td>\n",
       "    </tr>\n",
       "    <tr>\n",
       "      <th>185</th>\n",
       "      <td>Dollar($)</td>\n",
       "      <td>Canada</td>\n",
       "    </tr>\n",
       "    <tr>\n",
       "      <th>456</th>\n",
       "      <td>Dollar($)</td>\n",
       "      <td>Singapore</td>\n",
       "    </tr>\n",
       "    <tr>\n",
       "      <th>564</th>\n",
       "      <td>Emirati Diram(AED)</td>\n",
       "      <td>UAE</td>\n",
       "    </tr>\n",
       "    <tr>\n",
       "      <th>624</th>\n",
       "      <td>Indian Rupees(Rs.)</td>\n",
       "      <td>India</td>\n",
       "    </tr>\n",
       "    <tr>\n",
       "      <th>9276</th>\n",
       "      <td>Indonesian Rupiah(IDR)</td>\n",
       "      <td>Indonesia</td>\n",
       "    </tr>\n",
       "    <tr>\n",
       "      <th>9297</th>\n",
       "      <td>NewZealand($)</td>\n",
       "      <td>New Zealand</td>\n",
       "    </tr>\n",
       "    <tr>\n",
       "      <th>9337</th>\n",
       "      <td>Pounds(£)</td>\n",
       "      <td>United Kingdom</td>\n",
       "    </tr>\n",
       "    <tr>\n",
       "      <th>9417</th>\n",
       "      <td>Qatari Rial(QR)</td>\n",
       "      <td>Qatar</td>\n",
       "    </tr>\n",
       "    <tr>\n",
       "      <th>9437</th>\n",
       "      <td>Rand(R)</td>\n",
       "      <td>South Africa</td>\n",
       "    </tr>\n",
       "    <tr>\n",
       "      <th>9497</th>\n",
       "      <td>Sri Lankan Rupee(LKR)</td>\n",
       "      <td>Sri Lanka</td>\n",
       "    </tr>\n",
       "    <tr>\n",
       "      <th>9517</th>\n",
       "      <td>Turkish Lira(TL)</td>\n",
       "      <td>Turkey</td>\n",
       "    </tr>\n",
       "  </tbody>\n",
       "</table>\n",
       "</div>"
      ],
      "text/plain": [
       "                    Currency         Country\n",
       "0           Botswana Pula(P)     Phillipines\n",
       "22        Brazilian Real(R$)          Brazil\n",
       "82                 Dollar($)   United States\n",
       "102                Dollar($)       Australia\n",
       "185                Dollar($)          Canada\n",
       "456                Dollar($)       Singapore\n",
       "564       Emirati Diram(AED)             UAE\n",
       "624       Indian Rupees(Rs.)           India\n",
       "9276  Indonesian Rupiah(IDR)       Indonesia\n",
       "9297           NewZealand($)     New Zealand\n",
       "9337              Pounds(£)  United Kingdom\n",
       "9417         Qatari Rial(QR)           Qatar\n",
       "9437                 Rand(R)    South Africa\n",
       "9497   Sri Lankan Rupee(LKR)       Sri Lanka\n",
       "9517        Turkish Lira(TL)          Turkey"
      ]
     },
     "execution_count": 22,
     "metadata": {},
     "output_type": "execute_result"
    }
   ],
   "source": [
    "pd.DataFrame(data=[dd.Currency,dd.Country]).transpose().drop_duplicates()"
   ]
  },
  {
   "cell_type": "markdown",
   "id": "630d2c21-bfed-4059-928a-9786ab5e9d68",
   "metadata": {},
   "source": [
    "# start"
   ]
  },
  {
   "cell_type": "code",
   "execution_count": 23,
   "id": "2eb5d94e-d2b9-422e-9bcb-956f1a3b2dc4",
   "metadata": {},
   "outputs": [
    {
     "data": {
      "text/html": [
       "<div>\n",
       "<style scoped>\n",
       "    .dataframe tbody tr th:only-of-type {\n",
       "        vertical-align: middle;\n",
       "    }\n",
       "\n",
       "    .dataframe tbody tr th {\n",
       "        vertical-align: top;\n",
       "    }\n",
       "\n",
       "    .dataframe thead th {\n",
       "        text-align: right;\n",
       "    }\n",
       "</style>\n",
       "<table border=\"1\" class=\"dataframe\">\n",
       "  <thead>\n",
       "    <tr style=\"text-align: right;\">\n",
       "      <th></th>\n",
       "      <th>Restaurant ID</th>\n",
       "      <th>Restaurant Name</th>\n",
       "      <th>Country Code</th>\n",
       "      <th>City</th>\n",
       "      <th>Address</th>\n",
       "      <th>Locality</th>\n",
       "      <th>Locality Verbose</th>\n",
       "      <th>Longitude</th>\n",
       "      <th>Latitude</th>\n",
       "      <th>Cuisines</th>\n",
       "      <th>...</th>\n",
       "      <th>Currency</th>\n",
       "      <th>Has Table booking</th>\n",
       "      <th>Has Online delivery</th>\n",
       "      <th>Is delivering now</th>\n",
       "      <th>Switch to order menu</th>\n",
       "      <th>Price range</th>\n",
       "      <th>Aggregate rating</th>\n",
       "      <th>Rating color</th>\n",
       "      <th>Rating text</th>\n",
       "      <th>Votes</th>\n",
       "    </tr>\n",
       "  </thead>\n",
       "  <tbody>\n",
       "    <tr>\n",
       "      <th>0</th>\n",
       "      <td>6317637</td>\n",
       "      <td>Le Petit Souffle</td>\n",
       "      <td>162</td>\n",
       "      <td>Makati City</td>\n",
       "      <td>Third Floor, Century City Mall, Kalayaan Avenu...</td>\n",
       "      <td>Century City Mall, Poblacion, Makati City</td>\n",
       "      <td>Century City Mall, Poblacion, Makati City, Mak...</td>\n",
       "      <td>121.027535</td>\n",
       "      <td>14.565443</td>\n",
       "      <td>French, Japanese, Desserts</td>\n",
       "      <td>...</td>\n",
       "      <td>Botswana Pula(P)</td>\n",
       "      <td>Yes</td>\n",
       "      <td>No</td>\n",
       "      <td>No</td>\n",
       "      <td>No</td>\n",
       "      <td>3</td>\n",
       "      <td>4.8</td>\n",
       "      <td>Dark Green</td>\n",
       "      <td>Excellent</td>\n",
       "      <td>314</td>\n",
       "    </tr>\n",
       "    <tr>\n",
       "      <th>1</th>\n",
       "      <td>6304287</td>\n",
       "      <td>Izakaya Kikufuji</td>\n",
       "      <td>162</td>\n",
       "      <td>Makati City</td>\n",
       "      <td>Little Tokyo, 2277 Chino Roces Avenue, Legaspi...</td>\n",
       "      <td>Little Tokyo, Legaspi Village, Makati City</td>\n",
       "      <td>Little Tokyo, Legaspi Village, Makati City, Ma...</td>\n",
       "      <td>121.014101</td>\n",
       "      <td>14.553708</td>\n",
       "      <td>Japanese</td>\n",
       "      <td>...</td>\n",
       "      <td>Botswana Pula(P)</td>\n",
       "      <td>Yes</td>\n",
       "      <td>No</td>\n",
       "      <td>No</td>\n",
       "      <td>No</td>\n",
       "      <td>3</td>\n",
       "      <td>4.5</td>\n",
       "      <td>Dark Green</td>\n",
       "      <td>Excellent</td>\n",
       "      <td>591</td>\n",
       "    </tr>\n",
       "    <tr>\n",
       "      <th>2</th>\n",
       "      <td>6300002</td>\n",
       "      <td>Heat - Edsa Shangri-La</td>\n",
       "      <td>162</td>\n",
       "      <td>Mandaluyong City</td>\n",
       "      <td>Edsa Shangri-La, 1 Garden Way, Ortigas, Mandal...</td>\n",
       "      <td>Edsa Shangri-La, Ortigas, Mandaluyong City</td>\n",
       "      <td>Edsa Shangri-La, Ortigas, Mandaluyong City, Ma...</td>\n",
       "      <td>121.056831</td>\n",
       "      <td>14.581404</td>\n",
       "      <td>Seafood, Asian, Filipino, Indian</td>\n",
       "      <td>...</td>\n",
       "      <td>Botswana Pula(P)</td>\n",
       "      <td>Yes</td>\n",
       "      <td>No</td>\n",
       "      <td>No</td>\n",
       "      <td>No</td>\n",
       "      <td>4</td>\n",
       "      <td>4.4</td>\n",
       "      <td>Green</td>\n",
       "      <td>Very Good</td>\n",
       "      <td>270</td>\n",
       "    </tr>\n",
       "    <tr>\n",
       "      <th>3</th>\n",
       "      <td>6318506</td>\n",
       "      <td>Ooma</td>\n",
       "      <td>162</td>\n",
       "      <td>Mandaluyong City</td>\n",
       "      <td>Third Floor, Mega Fashion Hall, SM Megamall, O...</td>\n",
       "      <td>SM Megamall, Ortigas, Mandaluyong City</td>\n",
       "      <td>SM Megamall, Ortigas, Mandaluyong City, Mandal...</td>\n",
       "      <td>121.056475</td>\n",
       "      <td>14.585318</td>\n",
       "      <td>Japanese, Sushi</td>\n",
       "      <td>...</td>\n",
       "      <td>Botswana Pula(P)</td>\n",
       "      <td>No</td>\n",
       "      <td>No</td>\n",
       "      <td>No</td>\n",
       "      <td>No</td>\n",
       "      <td>4</td>\n",
       "      <td>4.9</td>\n",
       "      <td>Dark Green</td>\n",
       "      <td>Excellent</td>\n",
       "      <td>365</td>\n",
       "    </tr>\n",
       "    <tr>\n",
       "      <th>4</th>\n",
       "      <td>6314302</td>\n",
       "      <td>Sambo Kojin</td>\n",
       "      <td>162</td>\n",
       "      <td>Mandaluyong City</td>\n",
       "      <td>Third Floor, Mega Atrium, SM Megamall, Ortigas...</td>\n",
       "      <td>SM Megamall, Ortigas, Mandaluyong City</td>\n",
       "      <td>SM Megamall, Ortigas, Mandaluyong City, Mandal...</td>\n",
       "      <td>121.057508</td>\n",
       "      <td>14.584450</td>\n",
       "      <td>Japanese, Korean</td>\n",
       "      <td>...</td>\n",
       "      <td>Botswana Pula(P)</td>\n",
       "      <td>Yes</td>\n",
       "      <td>No</td>\n",
       "      <td>No</td>\n",
       "      <td>No</td>\n",
       "      <td>4</td>\n",
       "      <td>4.8</td>\n",
       "      <td>Dark Green</td>\n",
       "      <td>Excellent</td>\n",
       "      <td>229</td>\n",
       "    </tr>\n",
       "  </tbody>\n",
       "</table>\n",
       "<p>5 rows × 21 columns</p>\n",
       "</div>"
      ],
      "text/plain": [
       "   Restaurant ID         Restaurant Name  Country Code              City  \\\n",
       "0        6317637        Le Petit Souffle           162       Makati City   \n",
       "1        6304287        Izakaya Kikufuji           162       Makati City   \n",
       "2        6300002  Heat - Edsa Shangri-La           162  Mandaluyong City   \n",
       "3        6318506                    Ooma           162  Mandaluyong City   \n",
       "4        6314302             Sambo Kojin           162  Mandaluyong City   \n",
       "\n",
       "                                             Address  \\\n",
       "0  Third Floor, Century City Mall, Kalayaan Avenu...   \n",
       "1  Little Tokyo, 2277 Chino Roces Avenue, Legaspi...   \n",
       "2  Edsa Shangri-La, 1 Garden Way, Ortigas, Mandal...   \n",
       "3  Third Floor, Mega Fashion Hall, SM Megamall, O...   \n",
       "4  Third Floor, Mega Atrium, SM Megamall, Ortigas...   \n",
       "\n",
       "                                     Locality  \\\n",
       "0   Century City Mall, Poblacion, Makati City   \n",
       "1  Little Tokyo, Legaspi Village, Makati City   \n",
       "2  Edsa Shangri-La, Ortigas, Mandaluyong City   \n",
       "3      SM Megamall, Ortigas, Mandaluyong City   \n",
       "4      SM Megamall, Ortigas, Mandaluyong City   \n",
       "\n",
       "                                    Locality Verbose   Longitude   Latitude  \\\n",
       "0  Century City Mall, Poblacion, Makati City, Mak...  121.027535  14.565443   \n",
       "1  Little Tokyo, Legaspi Village, Makati City, Ma...  121.014101  14.553708   \n",
       "2  Edsa Shangri-La, Ortigas, Mandaluyong City, Ma...  121.056831  14.581404   \n",
       "3  SM Megamall, Ortigas, Mandaluyong City, Mandal...  121.056475  14.585318   \n",
       "4  SM Megamall, Ortigas, Mandaluyong City, Mandal...  121.057508  14.584450   \n",
       "\n",
       "                           Cuisines  ...          Currency Has Table booking  \\\n",
       "0        French, Japanese, Desserts  ...  Botswana Pula(P)               Yes   \n",
       "1                          Japanese  ...  Botswana Pula(P)               Yes   \n",
       "2  Seafood, Asian, Filipino, Indian  ...  Botswana Pula(P)               Yes   \n",
       "3                   Japanese, Sushi  ...  Botswana Pula(P)                No   \n",
       "4                  Japanese, Korean  ...  Botswana Pula(P)               Yes   \n",
       "\n",
       "  Has Online delivery Is delivering now Switch to order menu Price range  \\\n",
       "0                  No                No                   No           3   \n",
       "1                  No                No                   No           3   \n",
       "2                  No                No                   No           4   \n",
       "3                  No                No                   No           4   \n",
       "4                  No                No                   No           4   \n",
       "\n",
       "   Aggregate rating  Rating color Rating text Votes  \n",
       "0               4.8    Dark Green   Excellent   314  \n",
       "1               4.5    Dark Green   Excellent   591  \n",
       "2               4.4         Green   Very Good   270  \n",
       "3               4.9    Dark Green   Excellent   365  \n",
       "4               4.8    Dark Green   Excellent   229  \n",
       "\n",
       "[5 rows x 21 columns]"
      ]
     },
     "execution_count": 23,
     "metadata": {},
     "output_type": "execute_result"
    }
   ],
   "source": [
    "df.head()"
   ]
  },
  {
   "cell_type": "code",
   "execution_count": 24,
   "id": "3b627fbd-40dc-40a8-8a35-fb6145a9dbcc",
   "metadata": {},
   "outputs": [
    {
     "data": {
      "text/plain": [
       "(9551, 21)"
      ]
     },
     "execution_count": 24,
     "metadata": {},
     "output_type": "execute_result"
    }
   ],
   "source": [
    "df.shape"
   ]
  },
  {
   "cell_type": "code",
   "execution_count": 25,
   "id": "f84fab9b-fc2f-4686-922f-ab3feed9f9bd",
   "metadata": {},
   "outputs": [
    {
     "data": {
      "text/html": [
       "<div>\n",
       "<style scoped>\n",
       "    .dataframe tbody tr th:only-of-type {\n",
       "        vertical-align: middle;\n",
       "    }\n",
       "\n",
       "    .dataframe tbody tr th {\n",
       "        vertical-align: top;\n",
       "    }\n",
       "\n",
       "    .dataframe thead th {\n",
       "        text-align: right;\n",
       "    }\n",
       "</style>\n",
       "<table border=\"1\" class=\"dataframe\">\n",
       "  <thead>\n",
       "    <tr style=\"text-align: right;\">\n",
       "      <th></th>\n",
       "      <th>Restaurant ID</th>\n",
       "      <th>Country Code</th>\n",
       "      <th>Longitude</th>\n",
       "      <th>Latitude</th>\n",
       "      <th>Average Cost for two</th>\n",
       "      <th>Price range</th>\n",
       "      <th>Aggregate rating</th>\n",
       "      <th>Votes</th>\n",
       "    </tr>\n",
       "  </thead>\n",
       "  <tbody>\n",
       "    <tr>\n",
       "      <th>count</th>\n",
       "      <td>9.551000e+03</td>\n",
       "      <td>9551.000000</td>\n",
       "      <td>9551.000000</td>\n",
       "      <td>9551.000000</td>\n",
       "      <td>9551.000000</td>\n",
       "      <td>9551.000000</td>\n",
       "      <td>9551.000000</td>\n",
       "      <td>9551.000000</td>\n",
       "    </tr>\n",
       "    <tr>\n",
       "      <th>mean</th>\n",
       "      <td>9.051128e+06</td>\n",
       "      <td>18.365616</td>\n",
       "      <td>64.126574</td>\n",
       "      <td>25.854381</td>\n",
       "      <td>1199.210763</td>\n",
       "      <td>1.804837</td>\n",
       "      <td>2.666370</td>\n",
       "      <td>156.909748</td>\n",
       "    </tr>\n",
       "    <tr>\n",
       "      <th>std</th>\n",
       "      <td>8.791521e+06</td>\n",
       "      <td>56.750546</td>\n",
       "      <td>41.467058</td>\n",
       "      <td>11.007935</td>\n",
       "      <td>16121.183073</td>\n",
       "      <td>0.905609</td>\n",
       "      <td>1.516378</td>\n",
       "      <td>430.169145</td>\n",
       "    </tr>\n",
       "    <tr>\n",
       "      <th>min</th>\n",
       "      <td>5.300000e+01</td>\n",
       "      <td>1.000000</td>\n",
       "      <td>-157.948486</td>\n",
       "      <td>-41.330428</td>\n",
       "      <td>0.000000</td>\n",
       "      <td>1.000000</td>\n",
       "      <td>0.000000</td>\n",
       "      <td>0.000000</td>\n",
       "    </tr>\n",
       "    <tr>\n",
       "      <th>25%</th>\n",
       "      <td>3.019625e+05</td>\n",
       "      <td>1.000000</td>\n",
       "      <td>77.081343</td>\n",
       "      <td>28.478713</td>\n",
       "      <td>250.000000</td>\n",
       "      <td>1.000000</td>\n",
       "      <td>2.500000</td>\n",
       "      <td>5.000000</td>\n",
       "    </tr>\n",
       "    <tr>\n",
       "      <th>50%</th>\n",
       "      <td>6.004089e+06</td>\n",
       "      <td>1.000000</td>\n",
       "      <td>77.191964</td>\n",
       "      <td>28.570469</td>\n",
       "      <td>400.000000</td>\n",
       "      <td>2.000000</td>\n",
       "      <td>3.200000</td>\n",
       "      <td>31.000000</td>\n",
       "    </tr>\n",
       "    <tr>\n",
       "      <th>75%</th>\n",
       "      <td>1.835229e+07</td>\n",
       "      <td>1.000000</td>\n",
       "      <td>77.282006</td>\n",
       "      <td>28.642758</td>\n",
       "      <td>700.000000</td>\n",
       "      <td>2.000000</td>\n",
       "      <td>3.700000</td>\n",
       "      <td>131.000000</td>\n",
       "    </tr>\n",
       "    <tr>\n",
       "      <th>max</th>\n",
       "      <td>1.850065e+07</td>\n",
       "      <td>216.000000</td>\n",
       "      <td>174.832089</td>\n",
       "      <td>55.976980</td>\n",
       "      <td>800000.000000</td>\n",
       "      <td>4.000000</td>\n",
       "      <td>4.900000</td>\n",
       "      <td>10934.000000</td>\n",
       "    </tr>\n",
       "  </tbody>\n",
       "</table>\n",
       "</div>"
      ],
      "text/plain": [
       "       Restaurant ID  Country Code    Longitude     Latitude  \\\n",
       "count   9.551000e+03   9551.000000  9551.000000  9551.000000   \n",
       "mean    9.051128e+06     18.365616    64.126574    25.854381   \n",
       "std     8.791521e+06     56.750546    41.467058    11.007935   \n",
       "min     5.300000e+01      1.000000  -157.948486   -41.330428   \n",
       "25%     3.019625e+05      1.000000    77.081343    28.478713   \n",
       "50%     6.004089e+06      1.000000    77.191964    28.570469   \n",
       "75%     1.835229e+07      1.000000    77.282006    28.642758   \n",
       "max     1.850065e+07    216.000000   174.832089    55.976980   \n",
       "\n",
       "       Average Cost for two  Price range  Aggregate rating         Votes  \n",
       "count           9551.000000  9551.000000       9551.000000   9551.000000  \n",
       "mean            1199.210763     1.804837          2.666370    156.909748  \n",
       "std            16121.183073     0.905609          1.516378    430.169145  \n",
       "min                0.000000     1.000000          0.000000      0.000000  \n",
       "25%              250.000000     1.000000          2.500000      5.000000  \n",
       "50%              400.000000     2.000000          3.200000     31.000000  \n",
       "75%              700.000000     2.000000          3.700000    131.000000  \n",
       "max           800000.000000     4.000000          4.900000  10934.000000  "
      ]
     },
     "execution_count": 25,
     "metadata": {},
     "output_type": "execute_result"
    }
   ],
   "source": [
    "df.describe()"
   ]
  },
  {
   "cell_type": "code",
   "execution_count": 26,
   "id": "e371980f-d29b-4aa8-b56c-a666dd442f70",
   "metadata": {},
   "outputs": [
    {
     "name": "stdout",
     "output_type": "stream",
     "text": [
      "<class 'pandas.core.frame.DataFrame'>\n",
      "RangeIndex: 9551 entries, 0 to 9550\n",
      "Data columns (total 21 columns):\n",
      " #   Column                Non-Null Count  Dtype  \n",
      "---  ------                --------------  -----  \n",
      " 0   Restaurant ID         9551 non-null   int64  \n",
      " 1   Restaurant Name       9551 non-null   object \n",
      " 2   Country Code          9551 non-null   int64  \n",
      " 3   City                  9551 non-null   object \n",
      " 4   Address               9551 non-null   object \n",
      " 5   Locality              9551 non-null   object \n",
      " 6   Locality Verbose      9551 non-null   object \n",
      " 7   Longitude             9551 non-null   float64\n",
      " 8   Latitude              9551 non-null   float64\n",
      " 9   Cuisines              9542 non-null   object \n",
      " 10  Average Cost for two  9551 non-null   int64  \n",
      " 11  Currency              9551 non-null   object \n",
      " 12  Has Table booking     9551 non-null   object \n",
      " 13  Has Online delivery   9551 non-null   object \n",
      " 14  Is delivering now     9551 non-null   object \n",
      " 15  Switch to order menu  9551 non-null   object \n",
      " 16  Price range           9551 non-null   int64  \n",
      " 17  Aggregate rating      9551 non-null   float64\n",
      " 18  Rating color          9551 non-null   object \n",
      " 19  Rating text           9551 non-null   object \n",
      " 20  Votes                 9551 non-null   int64  \n",
      "dtypes: float64(3), int64(5), object(13)\n",
      "memory usage: 1.5+ MB\n"
     ]
    }
   ],
   "source": [
    "df.info()"
   ]
  },
  {
   "cell_type": "code",
   "execution_count": 27,
   "id": "fd8d1e0a-8f24-410f-8985-b7acd11b249b",
   "metadata": {},
   "outputs": [
    {
     "data": {
      "text/plain": [
       "Index(['Restaurant Name', 'City', 'Address', 'Locality', 'Locality Verbose',\n",
       "       'Cuisines', 'Currency', 'Has Table booking', 'Has Online delivery',\n",
       "       'Is delivering now', 'Switch to order menu', 'Rating color',\n",
       "       'Rating text'],\n",
       "      dtype='object')"
      ]
     },
     "execution_count": 27,
     "metadata": {},
     "output_type": "execute_result"
    }
   ],
   "source": [
    "df.select_dtypes(include=\"object\").columns"
   ]
  },
  {
   "cell_type": "code",
   "execution_count": 28,
   "id": "820c0f28-6cb1-495e-a813-b90ba288695b",
   "metadata": {},
   "outputs": [
    {
     "data": {
      "text/plain": [
       "count     9551\n",
       "unique       2\n",
       "top         No\n",
       "freq      7100\n",
       "Name: Has Online delivery, dtype: object"
      ]
     },
     "execution_count": 28,
     "metadata": {},
     "output_type": "execute_result"
    }
   ],
   "source": [
    "df['Has Online delivery'].describe()"
   ]
  },
  {
   "cell_type": "code",
   "execution_count": 29,
   "id": "406ad115-043e-4459-b66d-fcc3ae25474f",
   "metadata": {},
   "outputs": [
    {
     "name": "stdout",
     "output_type": "stream",
     "text": [
      "False    9551\n",
      "Name: Restaurant ID, dtype: int64\n",
      "False    9551\n",
      "Name: Restaurant Name, dtype: int64\n",
      "False    9551\n",
      "Name: Country Code, dtype: int64\n",
      "False    9551\n",
      "Name: City, dtype: int64\n",
      "False    9551\n",
      "Name: Address, dtype: int64\n",
      "False    9551\n",
      "Name: Locality, dtype: int64\n",
      "False    9551\n",
      "Name: Locality Verbose, dtype: int64\n",
      "False    9551\n",
      "Name: Longitude, dtype: int64\n",
      "False    9551\n",
      "Name: Latitude, dtype: int64\n",
      "False    9542\n",
      "True        9\n",
      "Name: Cuisines, dtype: int64\n",
      "False    9551\n",
      "Name: Average Cost for two, dtype: int64\n",
      "False    9551\n",
      "Name: Currency, dtype: int64\n",
      "False    9551\n",
      "Name: Has Table booking, dtype: int64\n",
      "False    9551\n",
      "Name: Has Online delivery, dtype: int64\n",
      "False    9551\n",
      "Name: Is delivering now, dtype: int64\n",
      "False    9551\n",
      "Name: Switch to order menu, dtype: int64\n",
      "False    9551\n",
      "Name: Price range, dtype: int64\n",
      "False    9551\n",
      "Name: Aggregate rating, dtype: int64\n",
      "False    9551\n",
      "Name: Rating color, dtype: int64\n",
      "False    9551\n",
      "Name: Rating text, dtype: int64\n",
      "False    9551\n",
      "Name: Votes, dtype: int64\n"
     ]
    }
   ],
   "source": [
    "for i in df:\n",
    "     print(df[i].isnull().value_counts(),end='\\n')\n"
   ]
  },
  {
   "cell_type": "code",
   "execution_count": 30,
   "id": "5d153dd6-e404-4191-a6b0-eab4af773955",
   "metadata": {},
   "outputs": [],
   "source": [
    "df.dropna(axis=0,inplace=True)"
   ]
  },
  {
   "cell_type": "markdown",
   "id": "c1bc3263-5131-4d7f-b092-f6e1eced8af0",
   "metadata": {},
   "source": [
    "## low count of null data and that also can't be assigned "
   ]
  },
  {
   "cell_type": "code",
   "execution_count": 31,
   "id": "fcf61975-7ae7-4a88-be01-e100edca91fa",
   "metadata": {},
   "outputs": [
    {
     "name": "stdout",
     "output_type": "stream",
     "text": [
      "False    9542\n",
      "Name: Restaurant ID, dtype: int64\n",
      "False    9542\n",
      "Name: Restaurant Name, dtype: int64\n",
      "False    9542\n",
      "Name: Country Code, dtype: int64\n",
      "False    9542\n",
      "Name: City, dtype: int64\n",
      "False    9542\n",
      "Name: Address, dtype: int64\n",
      "False    9542\n",
      "Name: Locality, dtype: int64\n",
      "False    9542\n",
      "Name: Locality Verbose, dtype: int64\n",
      "False    9542\n",
      "Name: Longitude, dtype: int64\n",
      "False    9542\n",
      "Name: Latitude, dtype: int64\n",
      "False    9542\n",
      "Name: Cuisines, dtype: int64\n",
      "False    9542\n",
      "Name: Average Cost for two, dtype: int64\n",
      "False    9542\n",
      "Name: Currency, dtype: int64\n",
      "False    9542\n",
      "Name: Has Table booking, dtype: int64\n",
      "False    9542\n",
      "Name: Has Online delivery, dtype: int64\n",
      "False    9542\n",
      "Name: Is delivering now, dtype: int64\n",
      "False    9542\n",
      "Name: Switch to order menu, dtype: int64\n",
      "False    9542\n",
      "Name: Price range, dtype: int64\n",
      "False    9542\n",
      "Name: Aggregate rating, dtype: int64\n",
      "False    9542\n",
      "Name: Rating color, dtype: int64\n",
      "False    9542\n",
      "Name: Rating text, dtype: int64\n",
      "False    9542\n",
      "Name: Votes, dtype: int64\n"
     ]
    }
   ],
   "source": [
    "for i in df:\n",
    "     print(df[i].isnull().value_counts(),end='\\n')"
   ]
  },
  {
   "cell_type": "code",
   "execution_count": 32,
   "id": "39ee55e3-1d86-4ad7-9da5-31391bfbe10c",
   "metadata": {},
   "outputs": [
    {
     "data": {
      "text/html": [
       "<div>\n",
       "<style scoped>\n",
       "    .dataframe tbody tr th:only-of-type {\n",
       "        vertical-align: middle;\n",
       "    }\n",
       "\n",
       "    .dataframe tbody tr th {\n",
       "        vertical-align: top;\n",
       "    }\n",
       "\n",
       "    .dataframe thead th {\n",
       "        text-align: right;\n",
       "    }\n",
       "</style>\n",
       "<table border=\"1\" class=\"dataframe\">\n",
       "  <thead>\n",
       "    <tr style=\"text-align: right;\">\n",
       "      <th></th>\n",
       "      <th>Restaurant Name</th>\n",
       "      <th>City</th>\n",
       "      <th>Address</th>\n",
       "      <th>Locality</th>\n",
       "      <th>Locality Verbose</th>\n",
       "      <th>Cuisines</th>\n",
       "      <th>Currency</th>\n",
       "      <th>Has Table booking</th>\n",
       "      <th>Has Online delivery</th>\n",
       "      <th>Is delivering now</th>\n",
       "      <th>Switch to order menu</th>\n",
       "      <th>Rating color</th>\n",
       "      <th>Rating text</th>\n",
       "    </tr>\n",
       "  </thead>\n",
       "  <tbody>\n",
       "    <tr>\n",
       "      <th>0</th>\n",
       "      <td>Le Petit Souffle</td>\n",
       "      <td>Makati City</td>\n",
       "      <td>Third Floor, Century City Mall, Kalayaan Avenu...</td>\n",
       "      <td>Century City Mall, Poblacion, Makati City</td>\n",
       "      <td>Century City Mall, Poblacion, Makati City, Mak...</td>\n",
       "      <td>French, Japanese, Desserts</td>\n",
       "      <td>Botswana Pula(P)</td>\n",
       "      <td>Yes</td>\n",
       "      <td>No</td>\n",
       "      <td>No</td>\n",
       "      <td>No</td>\n",
       "      <td>Dark Green</td>\n",
       "      <td>Excellent</td>\n",
       "    </tr>\n",
       "    <tr>\n",
       "      <th>1</th>\n",
       "      <td>Izakaya Kikufuji</td>\n",
       "      <td>Makati City</td>\n",
       "      <td>Little Tokyo, 2277 Chino Roces Avenue, Legaspi...</td>\n",
       "      <td>Little Tokyo, Legaspi Village, Makati City</td>\n",
       "      <td>Little Tokyo, Legaspi Village, Makati City, Ma...</td>\n",
       "      <td>Japanese</td>\n",
       "      <td>Botswana Pula(P)</td>\n",
       "      <td>Yes</td>\n",
       "      <td>No</td>\n",
       "      <td>No</td>\n",
       "      <td>No</td>\n",
       "      <td>Dark Green</td>\n",
       "      <td>Excellent</td>\n",
       "    </tr>\n",
       "    <tr>\n",
       "      <th>2</th>\n",
       "      <td>Heat - Edsa Shangri-La</td>\n",
       "      <td>Mandaluyong City</td>\n",
       "      <td>Edsa Shangri-La, 1 Garden Way, Ortigas, Mandal...</td>\n",
       "      <td>Edsa Shangri-La, Ortigas, Mandaluyong City</td>\n",
       "      <td>Edsa Shangri-La, Ortigas, Mandaluyong City, Ma...</td>\n",
       "      <td>Seafood, Asian, Filipino, Indian</td>\n",
       "      <td>Botswana Pula(P)</td>\n",
       "      <td>Yes</td>\n",
       "      <td>No</td>\n",
       "      <td>No</td>\n",
       "      <td>No</td>\n",
       "      <td>Green</td>\n",
       "      <td>Very Good</td>\n",
       "    </tr>\n",
       "    <tr>\n",
       "      <th>3</th>\n",
       "      <td>Ooma</td>\n",
       "      <td>Mandaluyong City</td>\n",
       "      <td>Third Floor, Mega Fashion Hall, SM Megamall, O...</td>\n",
       "      <td>SM Megamall, Ortigas, Mandaluyong City</td>\n",
       "      <td>SM Megamall, Ortigas, Mandaluyong City, Mandal...</td>\n",
       "      <td>Japanese, Sushi</td>\n",
       "      <td>Botswana Pula(P)</td>\n",
       "      <td>No</td>\n",
       "      <td>No</td>\n",
       "      <td>No</td>\n",
       "      <td>No</td>\n",
       "      <td>Dark Green</td>\n",
       "      <td>Excellent</td>\n",
       "    </tr>\n",
       "    <tr>\n",
       "      <th>4</th>\n",
       "      <td>Sambo Kojin</td>\n",
       "      <td>Mandaluyong City</td>\n",
       "      <td>Third Floor, Mega Atrium, SM Megamall, Ortigas...</td>\n",
       "      <td>SM Megamall, Ortigas, Mandaluyong City</td>\n",
       "      <td>SM Megamall, Ortigas, Mandaluyong City, Mandal...</td>\n",
       "      <td>Japanese, Korean</td>\n",
       "      <td>Botswana Pula(P)</td>\n",
       "      <td>Yes</td>\n",
       "      <td>No</td>\n",
       "      <td>No</td>\n",
       "      <td>No</td>\n",
       "      <td>Dark Green</td>\n",
       "      <td>Excellent</td>\n",
       "    </tr>\n",
       "  </tbody>\n",
       "</table>\n",
       "</div>"
      ],
      "text/plain": [
       "          Restaurant Name              City  \\\n",
       "0        Le Petit Souffle       Makati City   \n",
       "1        Izakaya Kikufuji       Makati City   \n",
       "2  Heat - Edsa Shangri-La  Mandaluyong City   \n",
       "3                    Ooma  Mandaluyong City   \n",
       "4             Sambo Kojin  Mandaluyong City   \n",
       "\n",
       "                                             Address  \\\n",
       "0  Third Floor, Century City Mall, Kalayaan Avenu...   \n",
       "1  Little Tokyo, 2277 Chino Roces Avenue, Legaspi...   \n",
       "2  Edsa Shangri-La, 1 Garden Way, Ortigas, Mandal...   \n",
       "3  Third Floor, Mega Fashion Hall, SM Megamall, O...   \n",
       "4  Third Floor, Mega Atrium, SM Megamall, Ortigas...   \n",
       "\n",
       "                                     Locality  \\\n",
       "0   Century City Mall, Poblacion, Makati City   \n",
       "1  Little Tokyo, Legaspi Village, Makati City   \n",
       "2  Edsa Shangri-La, Ortigas, Mandaluyong City   \n",
       "3      SM Megamall, Ortigas, Mandaluyong City   \n",
       "4      SM Megamall, Ortigas, Mandaluyong City   \n",
       "\n",
       "                                    Locality Verbose  \\\n",
       "0  Century City Mall, Poblacion, Makati City, Mak...   \n",
       "1  Little Tokyo, Legaspi Village, Makati City, Ma...   \n",
       "2  Edsa Shangri-La, Ortigas, Mandaluyong City, Ma...   \n",
       "3  SM Megamall, Ortigas, Mandaluyong City, Mandal...   \n",
       "4  SM Megamall, Ortigas, Mandaluyong City, Mandal...   \n",
       "\n",
       "                           Cuisines          Currency Has Table booking  \\\n",
       "0        French, Japanese, Desserts  Botswana Pula(P)               Yes   \n",
       "1                          Japanese  Botswana Pula(P)               Yes   \n",
       "2  Seafood, Asian, Filipino, Indian  Botswana Pula(P)               Yes   \n",
       "3                   Japanese, Sushi  Botswana Pula(P)                No   \n",
       "4                  Japanese, Korean  Botswana Pula(P)               Yes   \n",
       "\n",
       "  Has Online delivery Is delivering now Switch to order menu Rating color  \\\n",
       "0                  No                No                   No   Dark Green   \n",
       "1                  No                No                   No   Dark Green   \n",
       "2                  No                No                   No        Green   \n",
       "3                  No                No                   No   Dark Green   \n",
       "4                  No                No                   No   Dark Green   \n",
       "\n",
       "  Rating text  \n",
       "0   Excellent  \n",
       "1   Excellent  \n",
       "2   Very Good  \n",
       "3   Excellent  \n",
       "4   Excellent  "
      ]
     },
     "execution_count": 32,
     "metadata": {},
     "output_type": "execute_result"
    }
   ],
   "source": [
    "df.select_dtypes(include=\"object\").head()"
   ]
  },
  {
   "cell_type": "markdown",
   "id": "83dd5a81-6ebe-47b5-98e1-255d68d3b168",
   "metadata": {},
   "source": [
    "### these are the one hot encoding \"Has Table booking\",\"Has Online delivery\",\"Is delivering now\",\"Switch to order menu\""
   ]
  },
  {
   "cell_type": "markdown",
   "id": "253c3c4c-33b5-46a4-a5c0-73a7b7132aea",
   "metadata": {},
   "source": [
    "### these can be divided to other columns \"Address\",\"Locality\",\"Locality Verbose\""
   ]
  },
  {
   "cell_type": "code",
   "execution_count": 33,
   "id": "eec1c707-c49c-44b8-9009-27acc9568486",
   "metadata": {},
   "outputs": [
    {
     "data": {
      "text/html": [
       "<div>\n",
       "<style scoped>\n",
       "    .dataframe tbody tr th:only-of-type {\n",
       "        vertical-align: middle;\n",
       "    }\n",
       "\n",
       "    .dataframe tbody tr th {\n",
       "        vertical-align: top;\n",
       "    }\n",
       "\n",
       "    .dataframe thead th {\n",
       "        text-align: right;\n",
       "    }\n",
       "</style>\n",
       "<table border=\"1\" class=\"dataframe\">\n",
       "  <thead>\n",
       "    <tr style=\"text-align: right;\">\n",
       "      <th></th>\n",
       "      <th>Restaurant ID</th>\n",
       "      <th>Country Code</th>\n",
       "      <th>Longitude</th>\n",
       "      <th>Latitude</th>\n",
       "      <th>Average Cost for two</th>\n",
       "      <th>Price range</th>\n",
       "      <th>Aggregate rating</th>\n",
       "      <th>Votes</th>\n",
       "    </tr>\n",
       "  </thead>\n",
       "  <tbody>\n",
       "    <tr>\n",
       "      <th>count</th>\n",
       "      <td>5.000000e+00</td>\n",
       "      <td>5.0</td>\n",
       "      <td>5.000000</td>\n",
       "      <td>5.000000</td>\n",
       "      <td>5.000000</td>\n",
       "      <td>5.000000</td>\n",
       "      <td>5.000000</td>\n",
       "      <td>5.00000</td>\n",
       "    </tr>\n",
       "    <tr>\n",
       "      <th>mean</th>\n",
       "      <td>6.310947e+06</td>\n",
       "      <td>162.0</td>\n",
       "      <td>121.042490</td>\n",
       "      <td>14.574065</td>\n",
       "      <td>1860.000000</td>\n",
       "      <td>3.600000</td>\n",
       "      <td>4.680000</td>\n",
       "      <td>353.80000</td>\n",
       "    </tr>\n",
       "    <tr>\n",
       "      <th>std</th>\n",
       "      <td>8.326152e+03</td>\n",
       "      <td>0.0</td>\n",
       "      <td>0.020349</td>\n",
       "      <td>0.013938</td>\n",
       "      <td>1209.545369</td>\n",
       "      <td>0.547723</td>\n",
       "      <td>0.216795</td>\n",
       "      <td>141.92498</td>\n",
       "    </tr>\n",
       "    <tr>\n",
       "      <th>min</th>\n",
       "      <td>6.300002e+06</td>\n",
       "      <td>162.0</td>\n",
       "      <td>121.014101</td>\n",
       "      <td>14.553708</td>\n",
       "      <td>1100.000000</td>\n",
       "      <td>3.000000</td>\n",
       "      <td>4.400000</td>\n",
       "      <td>229.00000</td>\n",
       "    </tr>\n",
       "    <tr>\n",
       "      <th>25%</th>\n",
       "      <td>6.304287e+06</td>\n",
       "      <td>162.0</td>\n",
       "      <td>121.027535</td>\n",
       "      <td>14.565443</td>\n",
       "      <td>1200.000000</td>\n",
       "      <td>3.000000</td>\n",
       "      <td>4.500000</td>\n",
       "      <td>270.00000</td>\n",
       "    </tr>\n",
       "    <tr>\n",
       "      <th>50%</th>\n",
       "      <td>6.314302e+06</td>\n",
       "      <td>162.0</td>\n",
       "      <td>121.056475</td>\n",
       "      <td>14.581404</td>\n",
       "      <td>1500.000000</td>\n",
       "      <td>4.000000</td>\n",
       "      <td>4.800000</td>\n",
       "      <td>314.00000</td>\n",
       "    </tr>\n",
       "    <tr>\n",
       "      <th>75%</th>\n",
       "      <td>6.317637e+06</td>\n",
       "      <td>162.0</td>\n",
       "      <td>121.056831</td>\n",
       "      <td>14.584450</td>\n",
       "      <td>1500.000000</td>\n",
       "      <td>4.000000</td>\n",
       "      <td>4.800000</td>\n",
       "      <td>365.00000</td>\n",
       "    </tr>\n",
       "    <tr>\n",
       "      <th>max</th>\n",
       "      <td>6.318506e+06</td>\n",
       "      <td>162.0</td>\n",
       "      <td>121.057508</td>\n",
       "      <td>14.585318</td>\n",
       "      <td>4000.000000</td>\n",
       "      <td>4.000000</td>\n",
       "      <td>4.900000</td>\n",
       "      <td>591.00000</td>\n",
       "    </tr>\n",
       "  </tbody>\n",
       "</table>\n",
       "</div>"
      ],
      "text/plain": [
       "       Restaurant ID  Country Code   Longitude   Latitude  \\\n",
       "count   5.000000e+00           5.0    5.000000   5.000000   \n",
       "mean    6.310947e+06         162.0  121.042490  14.574065   \n",
       "std     8.326152e+03           0.0    0.020349   0.013938   \n",
       "min     6.300002e+06         162.0  121.014101  14.553708   \n",
       "25%     6.304287e+06         162.0  121.027535  14.565443   \n",
       "50%     6.314302e+06         162.0  121.056475  14.581404   \n",
       "75%     6.317637e+06         162.0  121.056831  14.584450   \n",
       "max     6.318506e+06         162.0  121.057508  14.585318   \n",
       "\n",
       "       Average Cost for two  Price range  Aggregate rating      Votes  \n",
       "count              5.000000     5.000000          5.000000    5.00000  \n",
       "mean            1860.000000     3.600000          4.680000  353.80000  \n",
       "std             1209.545369     0.547723          0.216795  141.92498  \n",
       "min             1100.000000     3.000000          4.400000  229.00000  \n",
       "25%             1200.000000     3.000000          4.500000  270.00000  \n",
       "50%             1500.000000     4.000000          4.800000  314.00000  \n",
       "75%             1500.000000     4.000000          4.800000  365.00000  \n",
       "max             4000.000000     4.000000          4.900000  591.00000  "
      ]
     },
     "execution_count": 33,
     "metadata": {},
     "output_type": "execute_result"
    }
   ],
   "source": [
    "df.select_dtypes(exclude=\"object\").head().describe()"
   ]
  },
  {
   "cell_type": "code",
   "execution_count": 34,
   "id": "cc80936f-7d9d-4946-8543-0d131757abbd",
   "metadata": {},
   "outputs": [
    {
     "data": {
      "text/plain": [
       "1      8652\n",
       "216     425\n",
       "215      80\n",
       "30       60\n",
       "214      60\n",
       "189      60\n",
       "148      40\n",
       "208      34\n",
       "14       24\n",
       "162      22\n",
       "94       21\n",
       "184      20\n",
       "166      20\n",
       "191      20\n",
       "37        4\n",
       "Name: Country Code, dtype: int64"
      ]
     },
     "execution_count": 34,
     "metadata": {},
     "output_type": "execute_result"
    }
   ],
   "source": [
    "df[\"Country Code\"].value_counts()"
   ]
  },
  {
   "cell_type": "code",
   "execution_count": 35,
   "id": "2fdfc801-1367-4376-a60b-6197a5c59f8a",
   "metadata": {},
   "outputs": [
    {
     "data": {
      "text/plain": [
       "1    4438\n",
       "2    3113\n",
       "3    1405\n",
       "4     586\n",
       "Name: Price range, dtype: int64"
      ]
     },
     "execution_count": 35,
     "metadata": {},
     "output_type": "execute_result"
    }
   ],
   "source": [
    "df[\"Price range\"].value_counts()"
   ]
  },
  {
   "cell_type": "code",
   "execution_count": 36,
   "id": "cdee39ec-cec9-420b-8025-debfc876c317",
   "metadata": {},
   "outputs": [
    {
     "data": {
      "text/plain": [
       "0.0    2148\n",
       "3.2     522\n",
       "3.1     519\n",
       "3.4     495\n",
       "3.3     483\n",
       "3.5     480\n",
       "3.0     468\n",
       "3.6     458\n",
       "3.7     427\n",
       "3.8     399\n",
       "2.9     381\n",
       "3.9     332\n",
       "2.8     315\n",
       "4.1     274\n",
       "4.0     266\n",
       "2.7     250\n",
       "4.2     221\n",
       "2.6     191\n",
       "4.3     174\n",
       "4.4     143\n",
       "2.5     110\n",
       "4.5      95\n",
       "2.4      87\n",
       "4.6      78\n",
       "4.9      61\n",
       "2.3      47\n",
       "4.7      41\n",
       "2.2      27\n",
       "4.8      25\n",
       "2.1      15\n",
       "2.0       7\n",
       "1.9       2\n",
       "1.8       1\n",
       "Name: Aggregate rating, dtype: int64"
      ]
     },
     "execution_count": 36,
     "metadata": {},
     "output_type": "execute_result"
    }
   ],
   "source": [
    "df[\"Aggregate rating\"].value_counts()"
   ]
  },
  {
   "cell_type": "code",
   "execution_count": 37,
   "id": "1b9da6e4-94aa-4946-8881-c7c8161ab9fe",
   "metadata": {},
   "outputs": [],
   "source": [
    "from sklearn.preprocessing import StandardScaler,MinMaxScaler\n",
    "f=StandardScaler().fit_transform(df.loc[:,[\"Votes\"]])\n",
    "# sn.histplot(f)\n",
    "# sn.boxenplot(f)\n",
    "# sn.boxenplot(x=df[\"Votes\"])\n"
   ]
  },
  {
   "cell_type": "code",
   "execution_count": 38,
   "id": "abe3af8e-ff8f-4519-88c9-37b78a867cc2",
   "metadata": {},
   "outputs": [
    {
     "data": {
      "text/plain": [
       "0        314\n",
       "1        591\n",
       "2        270\n",
       "3        365\n",
       "4        229\n",
       "        ... \n",
       "9546     788\n",
       "9547    1034\n",
       "9548     661\n",
       "9549     901\n",
       "9550     591\n",
       "Name: Votes, Length: 9542, dtype: int64"
      ]
     },
     "execution_count": 38,
     "metadata": {},
     "output_type": "execute_result"
    }
   ],
   "source": [
    "df.loc[:,\"Votes\"]"
   ]
  },
  {
   "cell_type": "code",
   "execution_count": 39,
   "id": "7c23bff6-436c-45ec-9ef2-297dbedcdc90",
   "metadata": {},
   "outputs": [
    {
     "data": {
      "text/plain": [
       "([<matplotlib.patches.Wedge at 0x7f76a203fee0>,\n",
       "  <matplotlib.patches.Wedge at 0x7f76a204e670>,\n",
       "  <matplotlib.patches.Wedge at 0x7f76a204ed90>,\n",
       "  <matplotlib.patches.Wedge at 0x7f76a205a4f0>,\n",
       "  <matplotlib.patches.Wedge at 0x7f76a205ac10>],\n",
       " [Text(-0.6145352824185932, 0.9123301960708633, 'New Delhi'),\n",
       "  Text(0.0623675251198054, -1.0982305276263407, 'Gurgaon'),\n",
       "  Text(0.8789045225625368, -0.6614581167535246, 'Noida'),\n",
       "  Text(1.0922218418223437, -0.13058119407559224, 'Faridabad'),\n",
       "  Text(1.099946280005612, -0.010871113182029924, 'Ghaziabad')],\n",
       " [Text(-0.3352010631374145, 0.497634652402289, '68.87%'),\n",
       "  Text(0.0340186500653484, -0.5990348332507311, '14.07%'),\n",
       "  Text(0.47940246685229276, -0.36079533641101336, '13.59%'),\n",
       "  Text(0.5957573682667329, -0.07122610585941394, '3.16%'),\n",
       "  Text(0.5999706981848791, -0.005929698099289049, '0.31%')])"
      ]
     },
     "execution_count": 39,
     "metadata": {},
     "output_type": "execute_result"
    },
    {
     "data": {
      "image/png": "[encoded data removed]",
      "text/plain": [
       "<Figure size 864x432 with 1 Axes>"
      ]
     },
     "metadata": {},
     "output_type": "display_data"
    }
   ],
   "source": [
    "pl.pie(df.City.value_counts().values[:5],labels=df.City.value_counts().index[:5],autopct='%1.2f%%')"
   ]
  },
  {
   "cell_type": "code",
   "execution_count": 40,
   "id": "9e1cbd38-07b6-4e5f-b323-e310c417c099",
   "metadata": {},
   "outputs": [
    {
     "data": {
      "text/plain": [
       "([<matplotlib.patches.Wedge at 0x7f76a2023730>,\n",
       "  <matplotlib.patches.Wedge at 0x7f76a2023d30>,\n",
       "  <matplotlib.patches.Wedge at 0x7f76a2030490>,\n",
       "  <matplotlib.patches.Wedge at 0x7f76a2030bb0>,\n",
       "  <matplotlib.patches.Wedge at 0x7f76a1fbe310>],\n",
       " [Text(0.4175823090707363, 1.0176566292965188, 'North Indian'),\n",
       "  Text(-1.090169487983684, 0.14673270756512372, 'North Indian, Chinese'),\n",
       "  Text(-0.6326704341218391, -0.8998489438722946, 'Chinese'),\n",
       "  Text(0.3048764124205039, -1.0569060379946758, 'Fast Food'),\n",
       "  Text(1.0036916287969155, -0.45011455684413826, 'North Indian, Mughlai')],\n",
       " [Text(0.22777216858403795, 0.5550854341617375, '37.61%'),\n",
       "  Text(-0.5946379025365549, 0.0800360223082493, '20.53%'),\n",
       "  Text(-0.3450929640664576, -0.4908266966576152, '14.22%'),\n",
       "  Text(0.16629622495663846, -0.5764942025425503, '14.22%'),\n",
       "  Text(0.5474681611619538, -0.24551703100589356, '13.42%')])"
      ]
     },
     "execution_count": 40,
     "metadata": {},
     "output_type": "execute_result"
    },
    {
     "data": {
      "image/png": "[encoded data removed]",
      "text/plain": [
       "<Figure size 864x432 with 1 Axes>"
      ]
     },
     "metadata": {},
     "output_type": "display_data"
    }
   ],
   "source": [
    "pl.pie(df.Cuisines.value_counts().values[:5],labels=df.Cuisines.value_counts().index[:5],autopct='%1.2f%%')"
   ]
  },
  {
   "cell_type": "code",
   "execution_count": 45,
   "id": "0070439c-6fab-48b6-a17b-f7b0feb8a0ae",
   "metadata": {},
   "outputs": [
    {
     "data": {
      "text/html": [
       "<div>\n",
       "<style scoped>\n",
       "    .dataframe tbody tr th:only-of-type {\n",
       "        vertical-align: middle;\n",
       "    }\n",
       "\n",
       "    .dataframe tbody tr th {\n",
       "        vertical-align: top;\n",
       "    }\n",
       "\n",
       "    .dataframe thead th {\n",
       "        text-align: right;\n",
       "    }\n",
       "</style>\n",
       "<table border=\"1\" class=\"dataframe\">\n",
       "  <thead>\n",
       "    <tr style=\"text-align: right;\">\n",
       "      <th></th>\n",
       "      <th>Restaurant ID</th>\n",
       "      <th>Country Code</th>\n",
       "      <th>Longitude</th>\n",
       "      <th>Latitude</th>\n",
       "      <th>Average Cost for two</th>\n",
       "      <th>Price range</th>\n",
       "      <th>Aggregate rating</th>\n",
       "      <th>Votes</th>\n",
       "    </tr>\n",
       "  </thead>\n",
       "  <tbody>\n",
       "    <tr>\n",
       "      <th>0</th>\n",
       "      <td>6317637</td>\n",
       "      <td>162</td>\n",
       "      <td>121.027535</td>\n",
       "      <td>14.565443</td>\n",
       "      <td>1100</td>\n",
       "      <td>3</td>\n",
       "      <td>4.8</td>\n",
       "      <td>314</td>\n",
       "    </tr>\n",
       "    <tr>\n",
       "      <th>1</th>\n",
       "      <td>6304287</td>\n",
       "      <td>162</td>\n",
       "      <td>121.014101</td>\n",
       "      <td>14.553708</td>\n",
       "      <td>1200</td>\n",
       "      <td>3</td>\n",
       "      <td>4.5</td>\n",
       "      <td>591</td>\n",
       "    </tr>\n",
       "    <tr>\n",
       "      <th>2</th>\n",
       "      <td>6300002</td>\n",
       "      <td>162</td>\n",
       "      <td>121.056831</td>\n",
       "      <td>14.581404</td>\n",
       "      <td>4000</td>\n",
       "      <td>4</td>\n",
       "      <td>4.4</td>\n",
       "      <td>270</td>\n",
       "    </tr>\n",
       "    <tr>\n",
       "      <th>3</th>\n",
       "      <td>6318506</td>\n",
       "      <td>162</td>\n",
       "      <td>121.056475</td>\n",
       "      <td>14.585318</td>\n",
       "      <td>1500</td>\n",
       "      <td>4</td>\n",
       "      <td>4.9</td>\n",
       "      <td>365</td>\n",
       "    </tr>\n",
       "    <tr>\n",
       "      <th>4</th>\n",
       "      <td>6314302</td>\n",
       "      <td>162</td>\n",
       "      <td>121.057508</td>\n",
       "      <td>14.584450</td>\n",
       "      <td>1500</td>\n",
       "      <td>4</td>\n",
       "      <td>4.8</td>\n",
       "      <td>229</td>\n",
       "    </tr>\n",
       "  </tbody>\n",
       "</table>\n",
       "</div>"
      ],
      "text/plain": [
       "   Restaurant ID  Country Code   Longitude   Latitude  Average Cost for two  \\\n",
       "0        6317637           162  121.027535  14.565443                  1100   \n",
       "1        6304287           162  121.014101  14.553708                  1200   \n",
       "2        6300002           162  121.056831  14.581404                  4000   \n",
       "3        6318506           162  121.056475  14.585318                  1500   \n",
       "4        6314302           162  121.057508  14.584450                  1500   \n",
       "\n",
       "   Price range  Aggregate rating  Votes  \n",
       "0            3               4.8    314  \n",
       "1            3               4.5    591  \n",
       "2            4               4.4    270  \n",
       "3            4               4.9    365  \n",
       "4            4               4.8    229  "
      ]
     },
     "execution_count": 45,
     "metadata": {},
     "output_type": "execute_result"
    }
   ],
   "source": [
    "df.select_dtypes(exclude=\"object\").head()"
   ]
  },
  {
   "cell_type": "code",
   "execution_count": 56,
   "id": "aeb62acd-d36b-425a-b372-3f37d3fdb3c6",
   "metadata": {},
   "outputs": [],
   "source": [
    "df.columns=df.columns.str.replace(\" \",\"_\")"
   ]
  },
  {
   "cell_type": "code",
   "execution_count": 58,
   "id": "3b845b2a-ba0b-46c0-93a7-e900fd6e1eda",
   "metadata": {},
   "outputs": [
    {
     "data": {
      "text/plain": [
       "(-800.001, 80000.0]     9522\n",
       "(160000.0, 240000.0]       7\n",
       "(80000.0, 160000.0]        4\n",
       "(240000.0, 320000.0]       4\n",
       "(720000.0, 800000.0]       2\n",
       "(320000.0, 400000.0]       1\n",
       "(400000.0, 480000.0]       1\n",
       "(480000.0, 560000.0]       1\n",
       "(560000.0, 640000.0]       0\n",
       "(640000.0, 720000.0]       0\n",
       "Name: Average_Cost_for_two, dtype: int64"
      ]
     },
     "execution_count": 58,
     "metadata": {},
     "output_type": "execute_result"
    }
   ],
   "source": [
    "df.Average_Cost_for_two.value_counts(bins=10)"
   ]
  },
  {
   "cell_type": "code",
   "execution_count": 54,
   "id": "1076a4f4-0c6c-4d39-883f-5ef243f050a3",
   "metadata": {},
   "outputs": [
    {
     "data": {
      "text/html": [
       "<div>\n",
       "<style scoped>\n",
       "    .dataframe tbody tr th:only-of-type {\n",
       "        vertical-align: middle;\n",
       "    }\n",
       "\n",
       "    .dataframe tbody tr th {\n",
       "        vertical-align: top;\n",
       "    }\n",
       "\n",
       "    .dataframe thead th {\n",
       "        text-align: right;\n",
       "    }\n",
       "</style>\n",
       "<table border=\"1\" class=\"dataframe\">\n",
       "  <thead>\n",
       "    <tr style=\"text-align: right;\">\n",
       "      <th></th>\n",
       "      <th>Restaurant ID</th>\n",
       "      <th>Country Code</th>\n",
       "      <th>Longitude</th>\n",
       "      <th>Latitude</th>\n",
       "      <th>Average Cost for two</th>\n",
       "      <th>Price range</th>\n",
       "      <th>Aggregate rating</th>\n",
       "      <th>Votes</th>\n",
       "    </tr>\n",
       "  </thead>\n",
       "  <tbody>\n",
       "    <tr>\n",
       "      <th>count</th>\n",
       "      <td>9.542000e+03</td>\n",
       "      <td>9542.000000</td>\n",
       "      <td>9542.000000</td>\n",
       "      <td>9542.000000</td>\n",
       "      <td>9542.000000</td>\n",
       "      <td>9542.000000</td>\n",
       "      <td>9542.000000</td>\n",
       "      <td>9542.000000</td>\n",
       "    </tr>\n",
       "    <tr>\n",
       "      <th>mean</th>\n",
       "      <td>9.043301e+06</td>\n",
       "      <td>18.179208</td>\n",
       "      <td>64.274997</td>\n",
       "      <td>25.848532</td>\n",
       "      <td>1200.326137</td>\n",
       "      <td>1.804968</td>\n",
       "      <td>2.665238</td>\n",
       "      <td>156.772060</td>\n",
       "    </tr>\n",
       "    <tr>\n",
       "      <th>std</th>\n",
       "      <td>8.791967e+06</td>\n",
       "      <td>56.451600</td>\n",
       "      <td>41.197602</td>\n",
       "      <td>11.010094</td>\n",
       "      <td>16128.743876</td>\n",
       "      <td>0.905563</td>\n",
       "      <td>1.516588</td>\n",
       "      <td>430.203324</td>\n",
       "    </tr>\n",
       "    <tr>\n",
       "      <th>min</th>\n",
       "      <td>5.300000e+01</td>\n",
       "      <td>1.000000</td>\n",
       "      <td>-157.948486</td>\n",
       "      <td>-41.330428</td>\n",
       "      <td>0.000000</td>\n",
       "      <td>1.000000</td>\n",
       "      <td>0.000000</td>\n",
       "      <td>0.000000</td>\n",
       "    </tr>\n",
       "    <tr>\n",
       "      <th>25%</th>\n",
       "      <td>3.019312e+05</td>\n",
       "      <td>1.000000</td>\n",
       "      <td>77.081565</td>\n",
       "      <td>28.478658</td>\n",
       "      <td>250.000000</td>\n",
       "      <td>1.000000</td>\n",
       "      <td>2.500000</td>\n",
       "      <td>5.000000</td>\n",
       "    </tr>\n",
       "    <tr>\n",
       "      <th>50%</th>\n",
       "      <td>6.002726e+06</td>\n",
       "      <td>1.000000</td>\n",
       "      <td>77.192031</td>\n",
       "      <td>28.570444</td>\n",
       "      <td>400.000000</td>\n",
       "      <td>2.000000</td>\n",
       "      <td>3.200000</td>\n",
       "      <td>31.000000</td>\n",
       "    </tr>\n",
       "    <tr>\n",
       "      <th>75%</th>\n",
       "      <td>1.835260e+07</td>\n",
       "      <td>1.000000</td>\n",
       "      <td>77.282043</td>\n",
       "      <td>28.642711</td>\n",
       "      <td>700.000000</td>\n",
       "      <td>2.000000</td>\n",
       "      <td>3.700000</td>\n",
       "      <td>130.000000</td>\n",
       "    </tr>\n",
       "    <tr>\n",
       "      <th>max</th>\n",
       "      <td>1.850065e+07</td>\n",
       "      <td>216.000000</td>\n",
       "      <td>174.832089</td>\n",
       "      <td>55.976980</td>\n",
       "      <td>800000.000000</td>\n",
       "      <td>4.000000</td>\n",
       "      <td>4.900000</td>\n",
       "      <td>10934.000000</td>\n",
       "    </tr>\n",
       "  </tbody>\n",
       "</table>\n",
       "</div>"
      ],
      "text/plain": [
       "       Restaurant ID  Country Code    Longitude     Latitude  \\\n",
       "count   9.542000e+03   9542.000000  9542.000000  9542.000000   \n",
       "mean    9.043301e+06     18.179208    64.274997    25.848532   \n",
       "std     8.791967e+06     56.451600    41.197602    11.010094   \n",
       "min     5.300000e+01      1.000000  -157.948486   -41.330428   \n",
       "25%     3.019312e+05      1.000000    77.081565    28.478658   \n",
       "50%     6.002726e+06      1.000000    77.192031    28.570444   \n",
       "75%     1.835260e+07      1.000000    77.282043    28.642711   \n",
       "max     1.850065e+07    216.000000   174.832089    55.976980   \n",
       "\n",
       "       Average Cost for two  Price range  Aggregate rating         Votes  \n",
       "count           9542.000000  9542.000000       9542.000000   9542.000000  \n",
       "mean            1200.326137     1.804968          2.665238    156.772060  \n",
       "std            16128.743876     0.905563          1.516588    430.203324  \n",
       "min                0.000000     1.000000          0.000000      0.000000  \n",
       "25%              250.000000     1.000000          2.500000      5.000000  \n",
       "50%              400.000000     2.000000          3.200000     31.000000  \n",
       "75%              700.000000     2.000000          3.700000    130.000000  \n",
       "max           800000.000000     4.000000          4.900000  10934.000000  "
      ]
     },
     "execution_count": 54,
     "metadata": {},
     "output_type": "execute_result"
    }
   ],
   "source": [
    "df.describe(exclude=\"object\")"
   ]
  },
  {
   "cell_type": "code",
   "execution_count": 67,
   "id": "3402dcd8-7b81-4485-8601-65ab507a8081",
   "metadata": {},
   "outputs": [],
   "source": [
    "dff=df.sample(frac=0.25)"
   ]
  },
  {
   "cell_type": "code",
   "execution_count": 68,
   "id": "2a1041a1-05c7-43e5-93eb-4e989ccc1b7b",
   "metadata": {},
   "outputs": [
    {
     "data": {
      "text/html": [
       "<div>\n",
       "<style scoped>\n",
       "    .dataframe tbody tr th:only-of-type {\n",
       "        vertical-align: middle;\n",
       "    }\n",
       "\n",
       "    .dataframe tbody tr th {\n",
       "        vertical-align: top;\n",
       "    }\n",
       "\n",
       "    .dataframe thead th {\n",
       "        text-align: right;\n",
       "    }\n",
       "</style>\n",
       "<table border=\"1\" class=\"dataframe\">\n",
       "  <thead>\n",
       "    <tr style=\"text-align: right;\">\n",
       "      <th></th>\n",
       "      <th>Restaurant_ID</th>\n",
       "      <th>Restaurant_Name</th>\n",
       "      <th>Country_Code</th>\n",
       "      <th>City</th>\n",
       "      <th>Address</th>\n",
       "      <th>Locality</th>\n",
       "      <th>Locality_Verbose</th>\n",
       "      <th>Longitude</th>\n",
       "      <th>Latitude</th>\n",
       "      <th>Cuisines</th>\n",
       "      <th>...</th>\n",
       "      <th>Currency</th>\n",
       "      <th>Has_Table_booking</th>\n",
       "      <th>Has_Online_delivery</th>\n",
       "      <th>Is_delivering_now</th>\n",
       "      <th>Switch_to_order_menu</th>\n",
       "      <th>Price_range</th>\n",
       "      <th>Aggregate_rating</th>\n",
       "      <th>Rating_color</th>\n",
       "      <th>Rating_text</th>\n",
       "      <th>Votes</th>\n",
       "    </tr>\n",
       "  </thead>\n",
       "  <tbody>\n",
       "    <tr>\n",
       "      <th>8474</th>\n",
       "      <td>18427226</td>\n",
       "      <td>Anand Food Factory</td>\n",
       "      <td>1</td>\n",
       "      <td>Noida</td>\n",
       "      <td>C-68, Sector-2, Noida</td>\n",
       "      <td>Sector 2</td>\n",
       "      <td>Sector 2, Noida</td>\n",
       "      <td>77.314391</td>\n",
       "      <td>28.583783</td>\n",
       "      <td>North Indian, Chinese</td>\n",
       "      <td>...</td>\n",
       "      <td>Indian Rupees(Rs.)</td>\n",
       "      <td>No</td>\n",
       "      <td>No</td>\n",
       "      <td>No</td>\n",
       "      <td>No</td>\n",
       "      <td>1</td>\n",
       "      <td>2.9</td>\n",
       "      <td>Orange</td>\n",
       "      <td>Average</td>\n",
       "      <td>4</td>\n",
       "    </tr>\n",
       "    <tr>\n",
       "      <th>8613</th>\n",
       "      <td>18265399</td>\n",
       "      <td>Kwality Walls - Happiness Station</td>\n",
       "      <td>1</td>\n",
       "      <td>Noida</td>\n",
       "      <td>Third Floor, Food Court, Sector 38, Noida</td>\n",
       "      <td>Sector 38</td>\n",
       "      <td>Sector 38, Noida</td>\n",
       "      <td>77.326363</td>\n",
       "      <td>28.567721</td>\n",
       "      <td>Ice Cream</td>\n",
       "      <td>...</td>\n",
       "      <td>Indian Rupees(Rs.)</td>\n",
       "      <td>No</td>\n",
       "      <td>No</td>\n",
       "      <td>No</td>\n",
       "      <td>No</td>\n",
       "      <td>1</td>\n",
       "      <td>0.0</td>\n",
       "      <td>White</td>\n",
       "      <td>Not rated</td>\n",
       "      <td>0</td>\n",
       "    </tr>\n",
       "    <tr>\n",
       "      <th>9379</th>\n",
       "      <td>6114338</td>\n",
       "      <td>Flat Iron</td>\n",
       "      <td>215</td>\n",
       "      <td>London</td>\n",
       "      <td>17 Beak Street, Soho, London W1F 9RW</td>\n",
       "      <td>Beak Street, Soho</td>\n",
       "      <td>Beak Street, Soho, London</td>\n",
       "      <td>-0.138343</td>\n",
       "      <td>51.512069</td>\n",
       "      <td>Steak</td>\n",
       "      <td>...</td>\n",
       "      <td>Pounds(£)</td>\n",
       "      <td>No</td>\n",
       "      <td>No</td>\n",
       "      <td>No</td>\n",
       "      <td>No</td>\n",
       "      <td>2</td>\n",
       "      <td>4.9</td>\n",
       "      <td>Dark Green</td>\n",
       "      <td>Excellent</td>\n",
       "      <td>309</td>\n",
       "    </tr>\n",
       "    <tr>\n",
       "      <th>965</th>\n",
       "      <td>18445360</td>\n",
       "      <td>Hungrill</td>\n",
       "      <td>1</td>\n",
       "      <td>Faridabad</td>\n",
       "      <td>Booth 110, HUDA Market, Near ICICI Bank, Secto...</td>\n",
       "      <td>Sector 16</td>\n",
       "      <td>Sector 16, Faridabad</td>\n",
       "      <td>77.319076</td>\n",
       "      <td>28.410820</td>\n",
       "      <td>North Indian, Chinese, Continental</td>\n",
       "      <td>...</td>\n",
       "      <td>Indian Rupees(Rs.)</td>\n",
       "      <td>No</td>\n",
       "      <td>No</td>\n",
       "      <td>No</td>\n",
       "      <td>No</td>\n",
       "      <td>2</td>\n",
       "      <td>3.0</td>\n",
       "      <td>Orange</td>\n",
       "      <td>Average</td>\n",
       "      <td>4</td>\n",
       "    </tr>\n",
       "    <tr>\n",
       "      <th>5452</th>\n",
       "      <td>2491</td>\n",
       "      <td>Hostess Tasty Bites</td>\n",
       "      <td>1</td>\n",
       "      <td>New Delhi</td>\n",
       "      <td>F Block, Near Mother Dairy Booth, Ramlila Grou...</td>\n",
       "      <td>Model Town 2</td>\n",
       "      <td>Model Town 2, New Delhi</td>\n",
       "      <td>77.190546</td>\n",
       "      <td>28.706519</td>\n",
       "      <td>Chinese</td>\n",
       "      <td>...</td>\n",
       "      <td>Indian Rupees(Rs.)</td>\n",
       "      <td>No</td>\n",
       "      <td>No</td>\n",
       "      <td>No</td>\n",
       "      <td>No</td>\n",
       "      <td>2</td>\n",
       "      <td>3.1</td>\n",
       "      <td>Orange</td>\n",
       "      <td>Average</td>\n",
       "      <td>16</td>\n",
       "    </tr>\n",
       "  </tbody>\n",
       "</table>\n",
       "<p>5 rows × 21 columns</p>\n",
       "</div>"
      ],
      "text/plain": [
       "      Restaurant_ID                    Restaurant_Name  Country_Code  \\\n",
       "8474       18427226                 Anand Food Factory             1   \n",
       "8613       18265399  Kwality Walls - Happiness Station             1   \n",
       "9379        6114338                          Flat Iron           215   \n",
       "965        18445360                           Hungrill             1   \n",
       "5452           2491                Hostess Tasty Bites             1   \n",
       "\n",
       "           City                                            Address  \\\n",
       "8474      Noida                              C-68, Sector-2, Noida   \n",
       "8613      Noida          Third Floor, Food Court, Sector 38, Noida   \n",
       "9379     London               17 Beak Street, Soho, London W1F 9RW   \n",
       "965   Faridabad  Booth 110, HUDA Market, Near ICICI Bank, Secto...   \n",
       "5452  New Delhi  F Block, Near Mother Dairy Booth, Ramlila Grou...   \n",
       "\n",
       "               Locality           Locality_Verbose  Longitude   Latitude  \\\n",
       "8474           Sector 2            Sector 2, Noida  77.314391  28.583783   \n",
       "8613          Sector 38           Sector 38, Noida  77.326363  28.567721   \n",
       "9379  Beak Street, Soho  Beak Street, Soho, London  -0.138343  51.512069   \n",
       "965           Sector 16       Sector 16, Faridabad  77.319076  28.410820   \n",
       "5452       Model Town 2    Model Town 2, New Delhi  77.190546  28.706519   \n",
       "\n",
       "                                Cuisines  ...            Currency  \\\n",
       "8474               North Indian, Chinese  ...  Indian Rupees(Rs.)   \n",
       "8613                           Ice Cream  ...  Indian Rupees(Rs.)   \n",
       "9379                               Steak  ...          Pounds(£)   \n",
       "965   North Indian, Chinese, Continental  ...  Indian Rupees(Rs.)   \n",
       "5452                             Chinese  ...  Indian Rupees(Rs.)   \n",
       "\n",
       "     Has_Table_booking Has_Online_delivery Is_delivering_now  \\\n",
       "8474                No                  No                No   \n",
       "8613                No                  No                No   \n",
       "9379                No                  No                No   \n",
       "965                 No                  No                No   \n",
       "5452                No                  No                No   \n",
       "\n",
       "     Switch_to_order_menu Price_range  Aggregate_rating  Rating_color  \\\n",
       "8474                   No           1               2.9        Orange   \n",
       "8613                   No           1               0.0         White   \n",
       "9379                   No           2               4.9    Dark Green   \n",
       "965                    No           2               3.0        Orange   \n",
       "5452                   No           2               3.1        Orange   \n",
       "\n",
       "     Rating_text Votes  \n",
       "8474     Average     4  \n",
       "8613   Not rated     0  \n",
       "9379   Excellent   309  \n",
       "965      Average     4  \n",
       "5452     Average    16  \n",
       "\n",
       "[5 rows x 21 columns]"
      ]
     },
     "execution_count": 68,
     "metadata": {},
     "output_type": "execute_result"
    }
   ],
   "source": [
    "dff.head()"
   ]
  },
  {
   "cell_type": "code",
   "execution_count": 69,
   "id": "d65b9eec-8341-4a8a-a720-493ae135ad57",
   "metadata": {},
   "outputs": [
    {
     "data": {
      "text/html": [
       "<div>\n",
       "<style scoped>\n",
       "    .dataframe tbody tr th:only-of-type {\n",
       "        vertical-align: middle;\n",
       "    }\n",
       "\n",
       "    .dataframe tbody tr th {\n",
       "        vertical-align: top;\n",
       "    }\n",
       "\n",
       "    .dataframe thead th {\n",
       "        text-align: right;\n",
       "    }\n",
       "</style>\n",
       "<table border=\"1\" class=\"dataframe\">\n",
       "  <thead>\n",
       "    <tr style=\"text-align: right;\">\n",
       "      <th></th>\n",
       "      <th>Restaurant_ID</th>\n",
       "      <th>Country_Code</th>\n",
       "      <th>Longitude</th>\n",
       "      <th>Latitude</th>\n",
       "      <th>Average_Cost_for_two</th>\n",
       "      <th>Price_range</th>\n",
       "      <th>Aggregate_rating</th>\n",
       "      <th>Votes</th>\n",
       "    </tr>\n",
       "  </thead>\n",
       "  <tbody>\n",
       "    <tr>\n",
       "      <th>count</th>\n",
       "      <td>2.386000e+03</td>\n",
       "      <td>2386.000000</td>\n",
       "      <td>2386.000000</td>\n",
       "      <td>2386.000000</td>\n",
       "      <td>2386.000000</td>\n",
       "      <td>2386.000000</td>\n",
       "      <td>2386.000000</td>\n",
       "      <td>2386.000000</td>\n",
       "    </tr>\n",
       "    <tr>\n",
       "      <th>mean</th>\n",
       "      <td>9.224820e+06</td>\n",
       "      <td>17.479464</td>\n",
       "      <td>65.649647</td>\n",
       "      <td>25.627175</td>\n",
       "      <td>927.211232</td>\n",
       "      <td>1.799665</td>\n",
       "      <td>2.650754</td>\n",
       "      <td>149.738894</td>\n",
       "    </tr>\n",
       "    <tr>\n",
       "      <th>std</th>\n",
       "      <td>8.816723e+06</td>\n",
       "      <td>55.216500</td>\n",
       "      <td>39.295495</td>\n",
       "      <td>11.099486</td>\n",
       "      <td>8910.186505</td>\n",
       "      <td>0.903346</td>\n",
       "      <td>1.512908</td>\n",
       "      <td>427.693654</td>\n",
       "    </tr>\n",
       "    <tr>\n",
       "      <th>min</th>\n",
       "      <td>5.500000e+01</td>\n",
       "      <td>1.000000</td>\n",
       "      <td>-157.831538</td>\n",
       "      <td>-41.330428</td>\n",
       "      <td>0.000000</td>\n",
       "      <td>1.000000</td>\n",
       "      <td>0.000000</td>\n",
       "      <td>0.000000</td>\n",
       "    </tr>\n",
       "    <tr>\n",
       "      <th>25%</th>\n",
       "      <td>3.024212e+05</td>\n",
       "      <td>1.000000</td>\n",
       "      <td>77.082179</td>\n",
       "      <td>28.476860</td>\n",
       "      <td>250.000000</td>\n",
       "      <td>1.000000</td>\n",
       "      <td>2.500000</td>\n",
       "      <td>4.000000</td>\n",
       "    </tr>\n",
       "    <tr>\n",
       "      <th>50%</th>\n",
       "      <td>6.403498e+06</td>\n",
       "      <td>1.000000</td>\n",
       "      <td>77.191764</td>\n",
       "      <td>28.569368</td>\n",
       "      <td>400.000000</td>\n",
       "      <td>2.000000</td>\n",
       "      <td>3.200000</td>\n",
       "      <td>31.000000</td>\n",
       "    </tr>\n",
       "    <tr>\n",
       "      <th>75%</th>\n",
       "      <td>1.835467e+07</td>\n",
       "      <td>1.000000</td>\n",
       "      <td>77.284576</td>\n",
       "      <td>28.642486</td>\n",
       "      <td>700.000000</td>\n",
       "      <td>2.000000</td>\n",
       "      <td>3.600000</td>\n",
       "      <td>127.750000</td>\n",
       "    </tr>\n",
       "    <tr>\n",
       "      <th>max</th>\n",
       "      <td>1.850065e+07</td>\n",
       "      <td>216.000000</td>\n",
       "      <td>174.793257</td>\n",
       "      <td>55.945950</td>\n",
       "      <td>300000.000000</td>\n",
       "      <td>4.000000</td>\n",
       "      <td>4.900000</td>\n",
       "      <td>9667.000000</td>\n",
       "    </tr>\n",
       "  </tbody>\n",
       "</table>\n",
       "</div>"
      ],
      "text/plain": [
       "       Restaurant_ID  Country_Code    Longitude     Latitude  \\\n",
       "count   2.386000e+03   2386.000000  2386.000000  2386.000000   \n",
       "mean    9.224820e+06     17.479464    65.649647    25.627175   \n",
       "std     8.816723e+06     55.216500    39.295495    11.099486   \n",
       "min     5.500000e+01      1.000000  -157.831538   -41.330428   \n",
       "25%     3.024212e+05      1.000000    77.082179    28.476860   \n",
       "50%     6.403498e+06      1.000000    77.191764    28.569368   \n",
       "75%     1.835467e+07      1.000000    77.284576    28.642486   \n",
       "max     1.850065e+07    216.000000   174.793257    55.945950   \n",
       "\n",
       "       Average_Cost_for_two  Price_range  Aggregate_rating        Votes  \n",
       "count           2386.000000  2386.000000       2386.000000  2386.000000  \n",
       "mean             927.211232     1.799665          2.650754   149.738894  \n",
       "std             8910.186505     0.903346          1.512908   427.693654  \n",
       "min                0.000000     1.000000          0.000000     0.000000  \n",
       "25%              250.000000     1.000000          2.500000     4.000000  \n",
       "50%              400.000000     2.000000          3.200000    31.000000  \n",
       "75%              700.000000     2.000000          3.600000   127.750000  \n",
       "max           300000.000000     4.000000          4.900000  9667.000000  "
      ]
     },
     "execution_count": 69,
     "metadata": {},
     "output_type": "execute_result"
    }
   ],
   "source": [
    "dff.describe()"
   ]
  },
  {
   "cell_type": "code",
   "execution_count": 70,
   "id": "8035d804-b9e6-4d69-ab84-2d4cf4cddc8c",
   "metadata": {},
   "outputs": [
    {
     "data": {
      "text/plain": [
       "1      2175\n",
       "216      93\n",
       "214      18\n",
       "189      17\n",
       "215      15\n",
       "148      14\n",
       "191      10\n",
       "30        9\n",
       "208       8\n",
       "14        6\n",
       "162       6\n",
       "184       6\n",
       "166       4\n",
       "94        4\n",
       "37        1\n",
       "Name: Country_Code, dtype: int64"
      ]
     },
     "execution_count": 70,
     "metadata": {},
     "output_type": "execute_result"
    }
   ],
   "source": [
    "dff.Country_Code.value_counts()"
   ]
  },
  {
   "cell_type": "code",
   "execution_count": 103,
   "id": "87051fe0-3a13-45a0-b8f0-edb9e11110f8",
   "metadata": {},
   "outputs": [],
   "source": [
    "# dff.where(dff.Country_Code == 1)"
   ]
  },
  {
   "cell_type": "code",
   "execution_count": 82,
   "id": "a3ad1f1c-5423-40b6-a28f-f1c74b9d353a",
   "metadata": {},
   "outputs": [],
   "source": [
    "df.shape\n",
    "df.dropna(inplace=True)"
   ]
  },
  {
   "cell_type": "code",
   "execution_count": 84,
   "id": "17e549bb-1a22-4883-a137-f0695d3723f8",
   "metadata": {},
   "outputs": [
    {
     "data": {
      "text/plain": [
       "(9542, 21)"
      ]
     },
     "execution_count": 84,
     "metadata": {},
     "output_type": "execute_result"
    }
   ],
   "source": [
    "df.shape"
   ]
  },
  {
   "cell_type": "code",
   "execution_count": 89,
   "id": "594af8b5-3818-4958-88e3-e1aea72ff84a",
   "metadata": {},
   "outputs": [],
   "source": [
    "dg=df.groupby(by=\"Country_Code\")"
   ]
  },
  {
   "cell_type": "code",
   "execution_count": 101,
   "id": "d763f7e0-ac11-4a64-a1bf-d709d96fba42",
   "metadata": {},
   "outputs": [
    {
     "data": {
      "text/plain": [
       "624     3.9\n",
       "625     3.5\n",
       "626     3.6\n",
       "627     4.0\n",
       "628     4.2\n",
       "       ... \n",
       "9271    3.6\n",
       "9272    3.7\n",
       "9273    4.3\n",
       "9274    3.8\n",
       "9275    4.4\n",
       "Name: Aggregate_rating, Length: 8652, dtype: float64"
      ]
     },
     "execution_count": 101,
     "metadata": {},
     "output_type": "execute_result"
    }
   ],
   "source": [
    "dg.get_group(1).Aggregate_rating"
   ]
  },
  {
   "cell_type": "code",
   "execution_count": 102,
   "id": "ca865c93-450c-4d03-9974-90f567ebb291",
   "metadata": {},
   "outputs": [
    {
     "data": {
      "text/plain": [
       "2.52332408691632"
      ]
     },
     "execution_count": 102,
     "metadata": {},
     "output_type": "execute_result"
    }
   ],
   "source": [
    "np.average(dg.get_group(1).Aggregate_rating)"
   ]
  },
  {
   "cell_type": "code",
   "execution_count": 117,
   "id": "149816cf-348c-45f1-9ba9-02024dc84806",
   "metadata": {},
   "outputs": [
    {
     "data": {
      "text/plain": [
       "0    1\n",
       "Name: Price_range, dtype: int64"
      ]
     },
     "execution_count": 117,
     "metadata": {},
     "output_type": "execute_result"
    }
   ],
   "source": [
    "dg.get_group(1).Price_range.mode()"
   ]
  },
  {
   "cell_type": "code",
   "execution_count": 126,
   "id": "8c192403-9ba7-4049-9a89-3015d52e63d0",
   "metadata": {},
   "outputs": [
    {
     "data": {
      "text/plain": [
       "Int64Index([185, 208, 540, 563], dtype='int64')"
      ]
     },
     "execution_count": 126,
     "metadata": {},
     "output_type": "execute_result"
    }
   ],
   "source": [
    "dg.get_group(37).index"
   ]
  },
  {
   "cell_type": "code",
   "execution_count": 201,
   "id": "1f9ce3d3-ce80-42e4-9fb0-a47caa455bf7",
   "metadata": {},
   "outputs": [
    {
     "data": {
      "text/plain": [
       "Restaurant_ID                                                    18500652\n",
       "Restaurant_Name                                      {Niche} - Cafe & Bar\n",
       "Country_Code                                                            1\n",
       "City                                                                Vizag\n",
       "Address                 ibis New Delhi, Asset 9, Hospitality District,...\n",
       "Locality                                         ibis New Delhi, Aerocity\n",
       "Locality_Verbose                      ibis New Delhi, Aerocity, New Delhi\n",
       "Longitude                                                       91.806493\n",
       "Latitude                                                             35.0\n",
       "Cuisines                                                       Vietnamese\n",
       "Average_Cost_for_two                                                 8000\n",
       "Currency                                               Indian Rupees(Rs.)\n",
       "Has_Table_booking                                                     Yes\n",
       "Has_Online_delivery                                                   Yes\n",
       "Is_delivering_now                                                     Yes\n",
       "Switch_to_order_menu                                                   No\n",
       "Price_range                                                             4\n",
       "Aggregate_rating                                                      4.9\n",
       "Rating_color                                                       Yellow\n",
       "Rating_text                                                     Very Good\n",
       "Votes                                                               10934\n",
       "dtype: object"
      ]
     },
     "execution_count": 201,
     "metadata": {},
     "output_type": "execute_result"
    }
   ],
   "source": [
    "dg.get_group(1)\n",
    "# .loc[:,[\"Average_Cost_for_two\",\"Price_range\",\"Aggregate_rating\"]]"
   ]
  },
  {
   "cell_type": "code",
   "execution_count": 141,
   "id": "7f6d0f11-75e7-4116-a1b0-d4f7ec370176",
   "metadata": {},
   "outputs": [
    {
     "data": {
      "text/plain": [
       "Country_Code\n",
       "1      8652\n",
       "14       24\n",
       "30       60\n",
       "37        4\n",
       "94       21\n",
       "148      40\n",
       "162      22\n",
       "166      20\n",
       "184      20\n",
       "189      60\n",
       "191      20\n",
       "208      34\n",
       "214      60\n",
       "215      80\n",
       "216     425\n",
       "dtype: int64"
      ]
     },
     "execution_count": 141,
     "metadata": {},
     "output_type": "execute_result"
    }
   ],
   "source": [
    "dg.size()\n",
    "# .mad()"
   ]
  },
  {
   "cell_type": "code",
   "execution_count": 142,
   "id": "9af5b4d0-644d-46ab-b663-54cf0d4050d9",
   "metadata": {},
   "outputs": [
    {
     "data": {
      "text/html": [
       "<div>\n",
       "<style scoped>\n",
       "    .dataframe tbody tr th:only-of-type {\n",
       "        vertical-align: middle;\n",
       "    }\n",
       "\n",
       "    .dataframe tbody tr th {\n",
       "        vertical-align: top;\n",
       "    }\n",
       "\n",
       "    .dataframe thead th {\n",
       "        text-align: right;\n",
       "    }\n",
       "</style>\n",
       "<table border=\"1\" class=\"dataframe\">\n",
       "  <thead>\n",
       "    <tr style=\"text-align: right;\">\n",
       "      <th></th>\n",
       "      <th>Restaurant_ID</th>\n",
       "      <th>Longitude</th>\n",
       "      <th>Latitude</th>\n",
       "      <th>Average_Cost_for_two</th>\n",
       "      <th>Price_range</th>\n",
       "      <th>Aggregate_rating</th>\n",
       "      <th>Votes</th>\n",
       "    </tr>\n",
       "    <tr>\n",
       "      <th>Country_Code</th>\n",
       "      <th></th>\n",
       "      <th></th>\n",
       "      <th></th>\n",
       "      <th></th>\n",
       "      <th></th>\n",
       "      <th></th>\n",
       "      <th></th>\n",
       "    </tr>\n",
       "  </thead>\n",
       "  <tbody>\n",
       "    <tr>\n",
       "      <th>1</th>\n",
       "      <td>9.632133e+04</td>\n",
       "      <td>0.193703</td>\n",
       "      <td>0.075004</td>\n",
       "      <td>6.404009</td>\n",
       "      <td>0.009166</td>\n",
       "      <td>0.016244</td>\n",
       "      <td>4.601777</td>\n",
       "    </tr>\n",
       "    <tr>\n",
       "      <th>14</th>\n",
       "      <td>8.390170e+04</td>\n",
       "      <td>1.959445</td>\n",
       "      <td>1.090183</td>\n",
       "      <td>4.418307</td>\n",
       "      <td>0.151233</td>\n",
       "      <td>0.106818</td>\n",
       "      <td>23.403047</td>\n",
       "    </tr>\n",
       "    <tr>\n",
       "      <th>30</th>\n",
       "      <td>4.017984e+04</td>\n",
       "      <td>0.258523</td>\n",
       "      <td>0.458918</td>\n",
       "      <td>11.209904</td>\n",
       "      <td>0.106829</td>\n",
       "      <td>0.161787</td>\n",
       "      <td>2.264076</td>\n",
       "    </tr>\n",
       "    <tr>\n",
       "      <th>37</th>\n",
       "      <td>5.105133e+03</td>\n",
       "      <td>7.669794</td>\n",
       "      <td>2.555593</td>\n",
       "      <td>11.250000</td>\n",
       "      <td>0.500000</td>\n",
       "      <td>0.280995</td>\n",
       "      <td>50.718176</td>\n",
       "    </tr>\n",
       "    <tr>\n",
       "      <th>94</th>\n",
       "      <td>1.191953e+06</td>\n",
       "      <td>5.088021</td>\n",
       "      <td>0.301774</td>\n",
       "      <td>44416.728887</td>\n",
       "      <td>0.047619</td>\n",
       "      <td>0.093472</td>\n",
       "      <td>135.328452</td>\n",
       "    </tr>\n",
       "    <tr>\n",
       "      <th>148</th>\n",
       "      <td>5.977125e+05</td>\n",
       "      <td>0.004279</td>\n",
       "      <td>1.039177</td>\n",
       "      <td>5.980604</td>\n",
       "      <td>0.141195</td>\n",
       "      <td>0.068471</td>\n",
       "      <td>28.216982</td>\n",
       "    </tr>\n",
       "    <tr>\n",
       "      <th>162</th>\n",
       "      <td>1.000969e+06</td>\n",
       "      <td>0.007160</td>\n",
       "      <td>0.029238</td>\n",
       "      <td>270.447270</td>\n",
       "      <td>0.123888</td>\n",
       "      <td>0.073675</td>\n",
       "      <td>50.546394</td>\n",
       "    </tr>\n",
       "    <tr>\n",
       "      <th>166</th>\n",
       "      <td>1.350902e+06</td>\n",
       "      <td>0.009064</td>\n",
       "      <td>0.006719</td>\n",
       "      <td>33.072637</td>\n",
       "      <td>0.131289</td>\n",
       "      <td>0.093584</td>\n",
       "      <td>21.447807</td>\n",
       "    </tr>\n",
       "    <tr>\n",
       "      <th>184</th>\n",
       "      <td>8.732715e+02</td>\n",
       "      <td>0.003403</td>\n",
       "      <td>0.003011</td>\n",
       "      <td>32.622794</td>\n",
       "      <td>0.131289</td>\n",
       "      <td>0.087321</td>\n",
       "      <td>0.606543</td>\n",
       "    </tr>\n",
       "    <tr>\n",
       "      <th>189</th>\n",
       "      <td>7.904276e+05</td>\n",
       "      <td>0.596671</td>\n",
       "      <td>0.490235</td>\n",
       "      <td>54.505278</td>\n",
       "      <td>0.079872</td>\n",
       "      <td>0.042831</td>\n",
       "      <td>32.366119</td>\n",
       "    </tr>\n",
       "    <tr>\n",
       "      <th>191</th>\n",
       "      <td>9.424996e+01</td>\n",
       "      <td>3.993051</td>\n",
       "      <td>0.345242</td>\n",
       "      <td>231.570724</td>\n",
       "      <td>0.150000</td>\n",
       "      <td>0.132009</td>\n",
       "      <td>14.248264</td>\n",
       "    </tr>\n",
       "    <tr>\n",
       "      <th>208</th>\n",
       "      <td>7.597466e+03</td>\n",
       "      <td>0.326327</td>\n",
       "      <td>0.096355</td>\n",
       "      <td>11.071163</td>\n",
       "      <td>0.115397</td>\n",
       "      <td>0.059559</td>\n",
       "      <td>68.504970</td>\n",
       "    </tr>\n",
       "    <tr>\n",
       "      <th>214</th>\n",
       "      <td>7.946421e+05</td>\n",
       "      <td>0.057819</td>\n",
       "      <td>0.049658</td>\n",
       "      <td>14.197006</td>\n",
       "      <td>0.089227</td>\n",
       "      <td>0.054445</td>\n",
       "      <td>64.878067</td>\n",
       "    </tr>\n",
       "    <tr>\n",
       "      <th>215</th>\n",
       "      <td>1.546505e+05</td>\n",
       "      <td>0.124652</td>\n",
       "      <td>0.186052</td>\n",
       "      <td>3.859523</td>\n",
       "      <td>0.093287</td>\n",
       "      <td>0.070809</td>\n",
       "      <td>26.374626</td>\n",
       "    </tr>\n",
       "    <tr>\n",
       "      <th>216</th>\n",
       "      <td>9.847025e+03</td>\n",
       "      <td>0.830193</td>\n",
       "      <td>0.302383</td>\n",
       "      <td>0.748276</td>\n",
       "      <td>0.042648</td>\n",
       "      <td>0.025649</td>\n",
       "      <td>21.635750</td>\n",
       "    </tr>\n",
       "  </tbody>\n",
       "</table>\n",
       "</div>"
      ],
      "text/plain": [
       "              Restaurant_ID  Longitude  Latitude  Average_Cost_for_two  \\\n",
       "Country_Code                                                             \n",
       "1              9.632133e+04   0.193703  0.075004              6.404009   \n",
       "14             8.390170e+04   1.959445  1.090183              4.418307   \n",
       "30             4.017984e+04   0.258523  0.458918             11.209904   \n",
       "37             5.105133e+03   7.669794  2.555593             11.250000   \n",
       "94             1.191953e+06   5.088021  0.301774          44416.728887   \n",
       "148            5.977125e+05   0.004279  1.039177              5.980604   \n",
       "162            1.000969e+06   0.007160  0.029238            270.447270   \n",
       "166            1.350902e+06   0.009064  0.006719             33.072637   \n",
       "184            8.732715e+02   0.003403  0.003011             32.622794   \n",
       "189            7.904276e+05   0.596671  0.490235             54.505278   \n",
       "191            9.424996e+01   3.993051  0.345242            231.570724   \n",
       "208            7.597466e+03   0.326327  0.096355             11.071163   \n",
       "214            7.946421e+05   0.057819  0.049658             14.197006   \n",
       "215            1.546505e+05   0.124652  0.186052              3.859523   \n",
       "216            9.847025e+03   0.830193  0.302383              0.748276   \n",
       "\n",
       "              Price_range  Aggregate_rating       Votes  \n",
       "Country_Code                                             \n",
       "1                0.009166          0.016244    4.601777  \n",
       "14               0.151233          0.106818   23.403047  \n",
       "30               0.106829          0.161787    2.264076  \n",
       "37               0.500000          0.280995   50.718176  \n",
       "94               0.047619          0.093472  135.328452  \n",
       "148              0.141195          0.068471   28.216982  \n",
       "162              0.123888          0.073675   50.546394  \n",
       "166              0.131289          0.093584   21.447807  \n",
       "184              0.131289          0.087321    0.606543  \n",
       "189              0.079872          0.042831   32.366119  \n",
       "191              0.150000          0.132009   14.248264  \n",
       "208              0.115397          0.059559   68.504970  \n",
       "214              0.089227          0.054445   64.878067  \n",
       "215              0.093287          0.070809   26.374626  \n",
       "216              0.042648          0.025649   21.635750  "
      ]
     },
     "execution_count": 142,
     "metadata": {},
     "output_type": "execute_result"
    }
   ],
   "source": [
    "dg.sem() # standard error mean"
   ]
  },
  {
   "cell_type": "code",
   "execution_count": 168,
   "id": "de266b33-da66-4b2e-9bbb-77e142961fd5",
   "metadata": {},
   "outputs": [
    {
     "data": {
      "text/plain": [
       "Restaurant_ID           2.200006e+06\n",
       "Country_Code            1.000000e+00\n",
       "Longitude               7.720347e+01\n",
       "Latitude                2.856987e+01\n",
       "Average_Cost_for_two    4.500000e+02\n",
       "Price_range             2.000000e+00\n",
       "Aggregate_rating        3.100000e+00\n",
       "Votes                   2.400000e+01\n",
       "Name: 0.5, dtype: float64"
      ]
     },
     "execution_count": 168,
     "metadata": {},
     "output_type": "execute_result"
    }
   ],
   "source": [
    "dg.get_group(1).quantile(q=0.5)"
   ]
  },
  {
   "cell_type": "code",
   "execution_count": 184,
   "id": "6d05effb-1d43-4625-915c-0dc29d9ddec8",
   "metadata": {},
   "outputs": [],
   "source": [
    "dg.expanding().max() # unknown \n",
    "dg.ewm().max() # unknown "
   ]
  },
  {
   "cell_type": "code",
   "execution_count": null,
   "id": "60dbe205-2e82-4360-b283-9c3f0aacacea",
   "metadata": {},
   "outputs": [],
   "source": []
  },
  {
   "cell_type": "code",
   "execution_count": null,
   "id": "fa834347-032c-4bd3-a9a6-5f7f416f63fe",
   "metadata": {},
   "outputs": [],
   "source": []
  },
  {
   "cell_type": "code",
   "execution_count": null,
   "id": "41671ed2-7a11-4826-a699-46548d38f3d1",
   "metadata": {},
   "outputs": [],
   "source": []
  },
  {
   "cell_type": "code",
   "execution_count": null,
   "id": "67a0b5b6-9037-410b-86b4-de9c0be6a96f",
   "metadata": {},
   "outputs": [],
   "source": []
  },
  {
   "cell_type": "code",
   "execution_count": null,
   "id": "7fd4dfa6-95e3-41e6-9d9b-2a6bba00daef",
   "metadata": {},
   "outputs": [],
   "source": []
  },
  {
   "cell_type": "code",
   "execution_count": null,
   "id": "536dfbef-ef42-41f4-97fa-1da89ed88de2",
   "metadata": {},
   "outputs": [],
   "source": []
  },
  {
   "cell_type": "code",
   "execution_count": null,
   "id": "cb91ad90-b640-40a1-8602-9ba78056788d",
   "metadata": {},
   "outputs": [],
   "source": []
  },
  {
   "cell_type": "code",
   "execution_count": null,
   "id": "e729f105-dc9e-46b7-ae18-ade55f1ebfd5",
   "metadata": {},
   "outputs": [],
   "source": []
  },
  {
   "cell_type": "code",
   "execution_count": null,
   "id": "6dfa1b77-4f69-4fa5-b497-076e8822b438",
   "metadata": {},
   "outputs": [],
   "source": [
    "d=pd.read_csv(\"data/archive/train.csv\")"
   ]
  },
  {
   "cell_type": "code",
   "execution_count": null,
   "id": "e4af1145-f821-463b-93dd-89e32a145eed",
   "metadata": {},
   "outputs": [],
   "source": [
    "d.shape"
   ]
  },
  {
   "cell_type": "code",
   "execution_count": null,
   "id": "cff81ab2-05e9-4a5d-bde9-1b047d43b636",
   "metadata": {},
   "outputs": [],
   "source": [
    "d.describe()"
   ]
  },
  {
   "cell_type": "code",
   "execution_count": null,
   "id": "d01da617-805f-4c22-9a54-1e413b6c684b",
   "metadata": {},
   "outputs": [],
   "source": [
    "d.info()"
   ]
  },
  {
   "cell_type": "markdown",
   "id": "8cf6ad71-b3de-448b-9752-7ea4ce89bbb1",
   "metadata": {},
   "source": [
    "## taget Purchase"
   ]
  },
  {
   "cell_type": "code",
   "execution_count": null,
   "id": "34d40b10-c662-4ebf-a09d-2ec606cd4d55",
   "metadata": {},
   "outputs": [],
   "source": [
    "dtest=pd.read_csv(\"data/archive/test.csv\")"
   ]
  },
  {
   "cell_type": "code",
   "execution_count": null,
   "id": "070fea63-e390-4ac8-a57b-a9acfe38bd0b",
   "metadata": {},
   "outputs": [],
   "source": [
    "d.Gender.value_counts(normalize=True)"
   ]
  },
  {
   "cell_type": "code",
   "execution_count": null,
   "id": "9281bee1-1f2e-446a-a783-bbd9184837f3",
   "metadata": {},
   "outputs": [],
   "source": [
    "d=pd.concat([d,dtest])"
   ]
  },
  {
   "cell_type": "code",
   "execution_count": null,
   "id": "abaefafd-2b72-4315-b5fd-ee6f60d3f273",
   "metadata": {},
   "outputs": [],
   "source": [
    "d.Gender=d.Gender.map({'F':0,'M':1})"
   ]
  },
  {
   "cell_type": "code",
   "execution_count": null,
   "id": "2f25aefc-e405-4111-8f8e-a5f8bfcc28d3",
   "metadata": {},
   "outputs": [],
   "source": [
    "d"
   ]
  },
  {
   "cell_type": "code",
   "execution_count": null,
   "id": "ff63cfe7-cd82-45bd-8027-b47084fda493",
   "metadata": {},
   "outputs": [],
   "source": [
    "d=pd.concat([d,pd.get_dummies(d.City_Category,drop_first=True)],axis=1)"
   ]
  },
  {
   "cell_type": "code",
   "execution_count": null,
   "id": "12a26288-13c0-4085-9403-c87adadb07fc",
   "metadata": {},
   "outputs": [],
   "source": [
    "d.Age=d.Age.map({'0-17':1, '55+':7, '26-35':3, '46-50':5, '51-55':6, '36-45':4, '18-25':2})"
   ]
  },
  {
   "cell_type": "code",
   "execution_count": null,
   "id": "931a02ad-3327-40fd-9628-0024429e13c8",
   "metadata": {},
   "outputs": [],
   "source": [
    "d.Age.unique()"
   ]
  },
  {
   "cell_type": "code",
   "execution_count": null,
   "id": "76aed369-0df3-48cb-bd72-124720de31fd",
   "metadata": {},
   "outputs": [],
   "source": [
    "d.Age.value_counts(ascending=True)"
   ]
  },
  {
   "cell_type": "code",
   "execution_count": null,
   "id": "e4e9018c-b004-4ce2-a6d4-2260732bae46",
   "metadata": {},
   "outputs": [],
   "source": [
    "d"
   ]
  },
  {
   "cell_type": "code",
   "execution_count": null,
   "id": "641520dd-6928-448e-9401-5e89773183e2",
   "metadata": {},
   "outputs": [],
   "source": []
  },
  {
   "cell_type": "code",
   "execution_count": null,
   "id": "d345ca7d-0630-4cef-8fed-11126fdcc4e9",
   "metadata": {},
   "outputs": [],
   "source": [
    "d.drop(labels=[\"User_ID\",\"City_Category\"],inplace=True,axis=1)"
   ]
  },
  {
   "cell_type": "code",
   "execution_count": null,
   "id": "241100c7-e270-4933-a163-9d11e489dc17",
   "metadata": {},
   "outputs": [],
   "source": [
    "d.columns=d.columns"
   ]
  },
  {
   "cell_type": "code",
   "execution_count": null,
   "id": "91c31267-e95e-41c5-8424-67759dce86a0",
   "metadata": {},
   "outputs": [],
   "source": [
    "d.columns"
   ]
  },
  {
   "cell_type": "code",
   "execution_count": null,
   "id": "5e164737-dd57-4275-a75b-9947e5131f05",
   "metadata": {},
   "outputs": [],
   "source": [
    "d"
   ]
  },
  {
   "cell_type": "code",
   "execution_count": null,
   "id": "1e018b79-599d-4aa6-af60-7a48c3407386",
   "metadata": {},
   "outputs": [],
   "source": [
    "d.isnull().sum()"
   ]
  },
  {
   "cell_type": "code",
   "execution_count": null,
   "id": "106498e9-75b4-416c-985c-017db08a5acc",
   "metadata": {},
   "outputs": [],
   "source": [
    "d[\"Product_Category_1\"]=d[\"Product_Category_1\"].fillna(d[\"Product_Category_1\"].mode()[0])"
   ]
  },
  {
   "cell_type": "code",
   "execution_count": null,
   "id": "d145fa6e-77f5-4398-804c-80059d47eb71",
   "metadata": {},
   "outputs": [],
   "source": [
    "d[\"Product_Category_2\"]=d[\"Product_Category_2\"].fillna(d[\"Product_Category_2\"].mode()[0])\n",
    "d[\"Product_Category_3\"]=d[\"Product_Category_3\"].fillna(d[\"Product_Category_3\"].mode()[0])"
   ]
  },
  {
   "cell_type": "code",
   "execution_count": null,
   "id": "6216a9c4-e8d5-49bd-8b74-1f5967702916",
   "metadata": {},
   "outputs": [],
   "source": [
    "d.isnull().sum()"
   ]
  },
  {
   "cell_type": "code",
   "execution_count": null,
   "id": "9759b26c-38d9-4b38-8637-84bed1f06b63",
   "metadata": {},
   "outputs": [],
   "source": [
    "d.Stay_In_Current_City_Years.unique()"
   ]
  },
  {
   "cell_type": "code",
   "execution_count": null,
   "id": "bacfd45f-2448-47c3-bb03-c7272ec2ea1c",
   "metadata": {},
   "outputs": [],
   "source": [
    "d.Stay_In_Current_City_Years=d.Stay_In_Current_City_Years.str.replace(\"+\",' ')"
   ]
  },
  {
   "cell_type": "code",
   "execution_count": null,
   "id": "af11bcee-40ce-4684-b39a-5e656e3cd63a",
   "metadata": {},
   "outputs": [],
   "source": [
    "d.Stay_In_Current_City_Years=d.Stay_In_Current_City_Years.astype('int8')"
   ]
  },
  {
   "cell_type": "code",
   "execution_count": null,
   "id": "4ca1c4c5-2ebd-4299-8769-7d74c2342cbd",
   "metadata": {},
   "outputs": [],
   "source": [
    "d.B=d.B.astype('int8')\n",
    "d.C=d.C.astype('int8')"
   ]
  },
  {
   "cell_type": "code",
   "execution_count": null,
   "id": "7d334398-6de1-4634-86b9-5d8cddf5daff",
   "metadata": {},
   "outputs": [],
   "source": [
    "d.info()"
   ]
  },
  {
   "cell_type": "code",
   "execution_count": null,
   "id": "3f56241e-07e0-4ef0-85d9-1ee82d020532",
   "metadata": {},
   "outputs": [],
   "source": [
    "# sn.pairplot(d.drop(columns=[\"Product_ID\"]))\n",
    "# d.Product_ID\n",
    "sn.heatmap(d.corr())"
   ]
  },
  {
   "cell_type": "code",
   "execution_count": null,
   "id": "92476da9-19be-4d75-bfa4-0e21be446a69",
   "metadata": {},
   "outputs": [],
   "source": []
  },
  {
   "cell_type": "code",
   "execution_count": null,
   "id": "e915740f-19ff-4d02-b34e-2570d2051c9e",
   "metadata": {},
   "outputs": [],
   "source": []
  }
 ],
 "metadata": {
  "kernelspec": {
   "display_name": "Python 3 (ipykernel)",
   "language": "python",
   "name": "python3"
  },
  "language_info": {
   "codemirror_mode": {
    "name": "ipython",
    "version": 3
   },
   "file_extension": ".py",
   "mimetype": "text/x-python",
   "name": "python",
   "nbconvert_exporter": "python",
   "pygments_lexer": "ipython3",
   "version": "3.10.6"
  }
 },
 "nbformat": 4,
 "nbformat_minor": 5
}
