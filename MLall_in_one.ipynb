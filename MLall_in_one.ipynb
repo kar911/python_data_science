{
 "cells": [
  {
   "cell_type": "code",
   "execution_count": 1,
   "id": "931af4df-2dc0-4980-9411-e69e42312922",
   "metadata": {},
   "outputs": [],
   "source": [
    "import sklearn as sk\n",
    "import pandas as pd\n",
    "import numpy as np\n",
    "import scipy.linalg as sc\n",
    "import matplotlib.pyplot as pt"
   ]
  },
  {
   "cell_type": "code",
   "execution_count": 2,
   "id": "f7f1c4fd-c1f6-4168-aebe-86efbd3d3abd",
   "metadata": {},
   "outputs": [],
   "source": [
    "import pandas_profiling as pp"
   ]
  },
  {
   "cell_type": "code",
   "execution_count": 1,
   "id": "e3c26587-59c6-4e9f-bfb5-fc4d3581a757",
   "metadata": {},
   "outputs": [],
   "source": [
    "import pandas as pd"
   ]
  },
  {
   "cell_type": "code",
   "execution_count": 13,
   "id": "282c44fc-752f-4f61-8d7b-f0f18ad34bd0",
   "metadata": {},
   "outputs": [],
   "source": [
    "data1=pd.read_csv(\"data/Zomatodataset/zomato.csv\")"
   ]
  },
  {
   "cell_type": "code",
   "execution_count": 2,
   "id": "c07a4ed3-fced-4cfc-a6ab-901181b9c510",
   "metadata": {},
   "outputs": [
    {
     "name": "stdout",
     "output_type": "stream",
     "text": [
      "CPU times: user 5.64 ms, sys: 4.31 ms, total: 9.95 ms\n",
      "Wall time: 8.99 ms\n"
     ]
    }
   ],
   "source": [
    "%%time\n",
    "data=pd.read_csv(\"./data/all_in_one/titanic_full_train.csv\")"
   ]
  },
  {
   "cell_type": "code",
   "execution_count": 5,
   "id": "73126613-8a38-4f97-b1ca-58560e1ce4de",
   "metadata": {},
   "outputs": [],
   "source": [
    "pro=pp.ProfileReport(data,explorative= True,\n",
    "    sensitive= True,\n",
    "    dark_mode= True)"
   ]
  },
  {
   "cell_type": "code",
   "execution_count": 19,
   "id": "d5734827-46bf-4b1b-a9e8-41129112ab36",
   "metadata": {},
   "outputs": [
    {
     "name": "stdout",
     "output_type": "stream",
     "text": [
      "9552\n",
      "9552\n",
      "7447\n",
      "16\n",
      "142\n",
      "8919\n",
      "1208\n",
      "1265\n",
      "8120\n",
      "8677\n",
      "1826\n",
      "140\n",
      "13\n",
      "3\n",
      "3\n",
      "3\n",
      "2\n",
      "4\n",
      "33\n",
      "6\n",
      "6\n",
      "1012\n"
     ]
    }
   ],
   "source": [
    "# data1.head()\n",
    "for i in data1.columns:\n",
    "    print(data1[i].nunique())"
   ]
  },
  {
   "cell_type": "code",
   "execution_count": null,
   "id": "d96d8917-6c89-44be-903b-cded711a20b9",
   "metadata": {},
   "outputs": [
    {
     "data": {
      "application/vnd.jupyter.widget-view+json": {
       "model_id": "fe4d264eecb243409f0b74dfce93b766",
       "version_major": 2,
       "version_minor": 0
      },
      "text/plain": [
       "Summarize dataset:   0%|          | 0/5 [00:00<?, ?it/s]"
      ]
     },
     "metadata": {},
     "output_type": "display_data"
    },
    {
     "data": {
      "application/vnd.jupyter.widget-view+json": {
       "model_id": "a069269f0ca746619448e0c65d773bc4",
       "version_major": 2,
       "version_minor": 0
      },
      "text/plain": [
       "Generate report structure:   0%|          | 0/1 [00:00<?, ?it/s]"
      ]
     },
     "metadata": {},
     "output_type": "display_data"
    },
    {
     "data": {
      "application/vnd.jupyter.widget-view+json": {
       "model_id": "f7782c58042749fbb34b04f5da3c7f4d",
       "version_major": 2,
       "version_minor": 0
      },
      "text/plain": [
       "Render HTML:   0%|          | 0/1 [00:00<?, ?it/s]"
      ]
     },
     "metadata": {},
     "output_type": "display_data"
    }
   ],
   "source": [
    "pro.to_file(\"/home/kar/Desktop/jupyter/out3.html\")"
   ]
  },
  {
   "cell_type": "code",
   "execution_count": 3,
   "id": "b0558f61-be98-4e41-91ab-0c3635ab20d8",
   "metadata": {},
   "outputs": [
    {
     "name": "stdout",
     "output_type": "stream",
     "text": [
      "CPU times: user 674 ms, sys: 222 ms, total: 896 ms\n",
      "Wall time: 550 ms\n"
     ]
    }
   ],
   "source": [
    "%%time\n",
    "import phik"
   ]
  },
  {
   "cell_type": "code",
   "execution_count": 4,
   "id": "3f08907b-3c13-49fe-8231-ca5971cd5323",
   "metadata": {},
   "outputs": [
    {
     "name": "stdout",
     "output_type": "stream",
     "text": [
      "CPU times: user 612 ms, sys: 39.6 ms, total: 651 ms\n",
      "Wall time: 650 ms\n"
     ]
    }
   ],
   "source": [
    "%%time\n",
    "from phik import report"
   ]
  },
  {
   "cell_type": "code",
   "execution_count": 9,
   "id": "518b6889-0bfd-4e31-9484-bd8508ae65e5",
   "metadata": {},
   "outputs": [
    {
     "name": "stdout",
     "output_type": "stream",
     "text": [
      "interval columns not set, guessing: ['Age']\n",
      "CPU times: user 161 ms, sys: 54.2 ms, total: 215 ms\n",
      "Wall time: 2.02 s\n"
     ]
    }
   ],
   "source": [
    "%%time\n",
    "phikk=data.phik_matrix()"
   ]
  },
  {
   "cell_type": "code",
   "execution_count": 6,
   "id": "6a20ece9-3959-473e-920e-2fb0fbcf3c9b",
   "metadata": {},
   "outputs": [],
   "source": [
    "data.drop(columns=[\"PassengerId\",\"Name\",\"Ticket\",\"Fare\",\"Cabin\"],inplace=True)"
   ]
  },
  {
   "cell_type": "code",
   "execution_count": 8,
   "id": "c8a6c348-f668-46ac-afad-9e5f8ebefe47",
   "metadata": {},
   "outputs": [
    {
     "data": {
      "text/html": [
       "<div>\n",
       "<style scoped>\n",
       "    .dataframe tbody tr th:only-of-type {\n",
       "        vertical-align: middle;\n",
       "    }\n",
       "\n",
       "    .dataframe tbody tr th {\n",
       "        vertical-align: top;\n",
       "    }\n",
       "\n",
       "    .dataframe thead th {\n",
       "        text-align: right;\n",
       "    }\n",
       "</style>\n",
       "<table border=\"1\" class=\"dataframe\">\n",
       "  <thead>\n",
       "    <tr style=\"text-align: right;\">\n",
       "      <th></th>\n",
       "      <th>Survived</th>\n",
       "      <th>Pclass</th>\n",
       "      <th>Sex</th>\n",
       "      <th>Age</th>\n",
       "      <th>SibSp</th>\n",
       "      <th>Parch</th>\n",
       "      <th>Embarked</th>\n",
       "    </tr>\n",
       "  </thead>\n",
       "  <tbody>\n",
       "    <tr>\n",
       "      <th>0</th>\n",
       "      <td>0</td>\n",
       "      <td>3</td>\n",
       "      <td>male</td>\n",
       "      <td>22.0</td>\n",
       "      <td>1</td>\n",
       "      <td>0</td>\n",
       "      <td>S</td>\n",
       "    </tr>\n",
       "    <tr>\n",
       "      <th>1</th>\n",
       "      <td>1</td>\n",
       "      <td>1</td>\n",
       "      <td>female</td>\n",
       "      <td>38.0</td>\n",
       "      <td>1</td>\n",
       "      <td>0</td>\n",
       "      <td>C</td>\n",
       "    </tr>\n",
       "    <tr>\n",
       "      <th>2</th>\n",
       "      <td>1</td>\n",
       "      <td>3</td>\n",
       "      <td>female</td>\n",
       "      <td>26.0</td>\n",
       "      <td>0</td>\n",
       "      <td>0</td>\n",
       "      <td>S</td>\n",
       "    </tr>\n",
       "    <tr>\n",
       "      <th>3</th>\n",
       "      <td>1</td>\n",
       "      <td>1</td>\n",
       "      <td>female</td>\n",
       "      <td>35.0</td>\n",
       "      <td>1</td>\n",
       "      <td>0</td>\n",
       "      <td>S</td>\n",
       "    </tr>\n",
       "    <tr>\n",
       "      <th>4</th>\n",
       "      <td>0</td>\n",
       "      <td>3</td>\n",
       "      <td>male</td>\n",
       "      <td>35.0</td>\n",
       "      <td>0</td>\n",
       "      <td>0</td>\n",
       "      <td>S</td>\n",
       "    </tr>\n",
       "  </tbody>\n",
       "</table>\n",
       "</div>"
      ],
      "text/plain": [
       "  Survived Pclass     Sex   Age SibSp Parch Embarked\n",
       "0        0      3    male  22.0     1     0        S\n",
       "1        1      1  female  38.0     1     0        C\n",
       "2        1      3  female  26.0     0     0        S\n",
       "3        1      1  female  35.0     1     0        S\n",
       "4        0      3    male  35.0     0     0        S"
      ]
     },
     "execution_count": 8,
     "metadata": {},
     "output_type": "execute_result"
    }
   ],
   "source": [
    "data.head()"
   ]
  },
  {
   "cell_type": "code",
   "execution_count": 15,
   "id": "fe79b557-0026-49b2-bcfd-59287f32378f",
   "metadata": {},
   "outputs": [
    {
     "data": {
      "text/plain": [
       "array(['S', 'C', 'Q', nan], dtype=object)"
      ]
     },
     "execution_count": 15,
     "metadata": {},
     "output_type": "execute_result"
    }
   ],
   "source": [
    "data.Embarked.unique()"
   ]
  },
  {
   "cell_type": "code",
   "execution_count": 7,
   "id": "e40b29ec-f66f-4b73-a892-693960ba3f92",
   "metadata": {},
   "outputs": [],
   "source": [
    "data.Pclass=pd.Categorical(data.Pclass,data.Pclass.unique())\n",
    "data.Parch=pd.Categorical(data.Parch,data.Parch.unique())\n",
    "data.Sex=pd.Categorical(data.Sex,data.Sex.unique())\n",
    "data.SibSp=pd.Categorical(data.SibSp,data.SibSp.unique())\n",
    "data.Survived=pd.Categorical(data.Survived,data.Survived.unique())\n",
    "data.Embarked=pd.Categorical(data.Embarked,['S', 'C', 'Q'])"
   ]
  },
  {
   "cell_type": "code",
   "execution_count": 12,
   "id": "95f7b10d-b33d-4298-bd0b-ff6bdd857baa",
   "metadata": {},
   "outputs": [
    {
     "data": {
      "text/html": [
       "<div>\n",
       "<style scoped>\n",
       "    .dataframe tbody tr th:only-of-type {\n",
       "        vertical-align: middle;\n",
       "    }\n",
       "\n",
       "    .dataframe tbody tr th {\n",
       "        vertical-align: top;\n",
       "    }\n",
       "\n",
       "    .dataframe thead th {\n",
       "        text-align: right;\n",
       "    }\n",
       "</style>\n",
       "<table border=\"1\" class=\"dataframe\">\n",
       "  <thead>\n",
       "    <tr style=\"text-align: right;\">\n",
       "      <th></th>\n",
       "      <th>Survived</th>\n",
       "      <th>Pclass</th>\n",
       "      <th>Sex</th>\n",
       "      <th>Age</th>\n",
       "      <th>SibSp</th>\n",
       "      <th>Parch</th>\n",
       "      <th>Embarked</th>\n",
       "    </tr>\n",
       "  </thead>\n",
       "  <tbody>\n",
       "    <tr>\n",
       "      <th>Survived</th>\n",
       "      <td>1.00</td>\n",
       "      <td>0.21</td>\n",
       "      <td>0.75</td>\n",
       "      <td>0.20</td>\n",
       "      <td>0.18</td>\n",
       "      <td>0.15</td>\n",
       "      <td>0.10</td>\n",
       "    </tr>\n",
       "    <tr>\n",
       "      <th>Pclass</th>\n",
       "      <td>0.21</td>\n",
       "      <td>1.00</td>\n",
       "      <td>0.08</td>\n",
       "      <td>0.41</td>\n",
       "      <td>0.22</td>\n",
       "      <td>0.03</td>\n",
       "      <td>0.58</td>\n",
       "    </tr>\n",
       "    <tr>\n",
       "      <th>Sex</th>\n",
       "      <td>0.75</td>\n",
       "      <td>0.08</td>\n",
       "      <td>1.00</td>\n",
       "      <td>0.13</td>\n",
       "      <td>0.19</td>\n",
       "      <td>0.23</td>\n",
       "      <td>0.07</td>\n",
       "    </tr>\n",
       "    <tr>\n",
       "      <th>Age</th>\n",
       "      <td>0.20</td>\n",
       "      <td>0.41</td>\n",
       "      <td>0.13</td>\n",
       "      <td>1.00</td>\n",
       "      <td>0.39</td>\n",
       "      <td>0.41</td>\n",
       "      <td>0.11</td>\n",
       "    </tr>\n",
       "    <tr>\n",
       "      <th>SibSp</th>\n",
       "      <td>0.18</td>\n",
       "      <td>0.22</td>\n",
       "      <td>0.19</td>\n",
       "      <td>0.39</td>\n",
       "      <td>1.00</td>\n",
       "      <td>0.59</td>\n",
       "      <td>0.14</td>\n",
       "    </tr>\n",
       "    <tr>\n",
       "      <th>Parch</th>\n",
       "      <td>0.15</td>\n",
       "      <td>0.03</td>\n",
       "      <td>0.23</td>\n",
       "      <td>0.41</td>\n",
       "      <td>0.59</td>\n",
       "      <td>1.00</td>\n",
       "      <td>0.08</td>\n",
       "    </tr>\n",
       "    <tr>\n",
       "      <th>Embarked</th>\n",
       "      <td>0.10</td>\n",
       "      <td>0.58</td>\n",
       "      <td>0.07</td>\n",
       "      <td>0.11</td>\n",
       "      <td>0.14</td>\n",
       "      <td>0.08</td>\n",
       "      <td>1.00</td>\n",
       "    </tr>\n",
       "  </tbody>\n",
       "</table>\n",
       "</div>"
      ],
      "text/plain": [
       "          Survived  Pclass   Sex   Age  SibSp  Parch  Embarked\n",
       "Survived      1.00    0.21  0.75  0.20   0.18   0.15      0.10\n",
       "Pclass        0.21    1.00  0.08  0.41   0.22   0.03      0.58\n",
       "Sex           0.75    0.08  1.00  0.13   0.19   0.23      0.07\n",
       "Age           0.20    0.41  0.13  1.00   0.39   0.41      0.11\n",
       "SibSp         0.18    0.22  0.19  0.39   1.00   0.59      0.14\n",
       "Parch         0.15    0.03  0.23  0.41   0.59   1.00      0.08\n",
       "Embarked      0.10    0.58  0.07  0.11   0.14   0.08      1.00"
      ]
     },
     "execution_count": 12,
     "metadata": {},
     "output_type": "execute_result"
    }
   ],
   "source": [
    "phikk.round(2)"
   ]
  },
  {
   "cell_type": "code",
   "execution_count": 10,
   "id": "9a09083e-6b86-433b-9f83-1fabaea06224",
   "metadata": {},
   "outputs": [
    {
     "name": "stdout",
     "output_type": "stream",
     "text": [
      "interval columns not set, guessing: ['Age']\n",
      "CPU times: user 3.2 s, sys: 350 ms, total: 3.55 s\n",
      "Wall time: 9.99 s\n"
     ]
    }
   ],
   "source": [
    "%%time\n",
    "phikkh=data.significance_matrix()"
   ]
  },
  {
   "cell_type": "code",
   "execution_count": 11,
   "id": "4cc8f6c2-6620-4412-8170-76f3b98e954d",
   "metadata": {},
   "outputs": [
    {
     "data": {
      "text/html": [
       "<div>\n",
       "<style scoped>\n",
       "    .dataframe tbody tr th:only-of-type {\n",
       "        vertical-align: middle;\n",
       "    }\n",
       "\n",
       "    .dataframe tbody tr th {\n",
       "        vertical-align: top;\n",
       "    }\n",
       "\n",
       "    .dataframe thead th {\n",
       "        text-align: right;\n",
       "    }\n",
       "</style>\n",
       "<table border=\"1\" class=\"dataframe\">\n",
       "  <thead>\n",
       "    <tr style=\"text-align: right;\">\n",
       "      <th></th>\n",
       "      <th>Survived</th>\n",
       "      <th>Pclass</th>\n",
       "      <th>Sex</th>\n",
       "      <th>Age</th>\n",
       "      <th>SibSp</th>\n",
       "      <th>Parch</th>\n",
       "      <th>Embarked</th>\n",
       "    </tr>\n",
       "  </thead>\n",
       "  <tbody>\n",
       "    <tr>\n",
       "      <th>Survived</th>\n",
       "      <td>34.22</td>\n",
       "      <td>9.85</td>\n",
       "      <td>16.29</td>\n",
       "      <td>3.18</td>\n",
       "      <td>4.95</td>\n",
       "      <td>3.77</td>\n",
       "      <td>4.60</td>\n",
       "    </tr>\n",
       "    <tr>\n",
       "      <th>Pclass</th>\n",
       "      <td>9.85</td>\n",
       "      <td>41.72</td>\n",
       "      <td>3.53</td>\n",
       "      <td>8.49</td>\n",
       "      <td>5.49</td>\n",
       "      <td>0.95</td>\n",
       "      <td>10.51</td>\n",
       "    </tr>\n",
       "    <tr>\n",
       "      <th>Sex</th>\n",
       "      <td>16.29</td>\n",
       "      <td>3.53</td>\n",
       "      <td>33.77</td>\n",
       "      <td>1.92</td>\n",
       "      <td>5.07</td>\n",
       "      <td>6.29</td>\n",
       "      <td>2.92</td>\n",
       "    </tr>\n",
       "    <tr>\n",
       "      <th>Age</th>\n",
       "      <td>3.18</td>\n",
       "      <td>8.49</td>\n",
       "      <td>1.92</td>\n",
       "      <td>49.12</td>\n",
       "      <td>7.55</td>\n",
       "      <td>11.04</td>\n",
       "      <td>0.57</td>\n",
       "    </tr>\n",
       "    <tr>\n",
       "      <th>SibSp</th>\n",
       "      <td>4.95</td>\n",
       "      <td>5.49</td>\n",
       "      <td>5.07</td>\n",
       "      <td>7.55</td>\n",
       "      <td>38.73</td>\n",
       "      <td>13.22</td>\n",
       "      <td>3.33</td>\n",
       "    </tr>\n",
       "    <tr>\n",
       "      <th>Parch</th>\n",
       "      <td>3.77</td>\n",
       "      <td>0.95</td>\n",
       "      <td>6.29</td>\n",
       "      <td>11.04</td>\n",
       "      <td>13.22</td>\n",
       "      <td>35.92</td>\n",
       "      <td>1.90</td>\n",
       "    </tr>\n",
       "    <tr>\n",
       "      <th>Embarked</th>\n",
       "      <td>4.60</td>\n",
       "      <td>10.51</td>\n",
       "      <td>2.92</td>\n",
       "      <td>0.57</td>\n",
       "      <td>3.33</td>\n",
       "      <td>1.90</td>\n",
       "      <td>36.45</td>\n",
       "    </tr>\n",
       "  </tbody>\n",
       "</table>\n",
       "</div>"
      ],
      "text/plain": [
       "          Survived  Pclass    Sex    Age  SibSp  Parch  Embarked\n",
       "Survived     34.22    9.85  16.29   3.18   4.95   3.77      4.60\n",
       "Pclass        9.85   41.72   3.53   8.49   5.49   0.95     10.51\n",
       "Sex          16.29    3.53  33.77   1.92   5.07   6.29      2.92\n",
       "Age           3.18    8.49   1.92  49.12   7.55  11.04      0.57\n",
       "SibSp         4.95    5.49   5.07   7.55  38.73  13.22      3.33\n",
       "Parch         3.77    0.95   6.29  11.04  13.22  35.92      1.90\n",
       "Embarked      4.60   10.51   2.92   0.57   3.33   1.90     36.45"
      ]
     },
     "execution_count": 11,
     "metadata": {},
     "output_type": "execute_result"
    }
   ],
   "source": [
    "phikkh.round(2)"
   ]
  },
  {
   "cell_type": "code",
   "execution_count": 12,
   "id": "168bb7c7-8c7a-411f-b08a-6e63f93d16c8",
   "metadata": {},
   "outputs": [
    {
     "data": {
      "text/plain": [
       "Index(['PassengerId', 'Survived', 'Pclass', 'Name', 'Sex', 'Age', 'SibSp',\n",
       "       'Parch', 'Ticket', 'Fare', 'Cabin', 'Embarked'],\n",
       "      dtype='object')"
      ]
     },
     "execution_count": 12,
     "metadata": {},
     "output_type": "execute_result"
    }
   ],
   "source": [
    "data.columns"
   ]
  },
  {
   "cell_type": "code",
   "execution_count": null,
   "id": "4f4c76e2-4ec9-405e-940e-03ec976003f9",
   "metadata": {},
   "outputs": [],
   "source": [
    "# report.correlation_report(data)"
   ]
  },
  {
   "cell_type": "code",
   "execution_count": null,
   "id": "4e18b03a-e6d4-452d-b423-9d6ff8f05109",
   "metadata": {},
   "outputs": [],
   "source": []
  }
 ],
 "metadata": {
  "kernelspec": {
   "display_name": "Python 3 (ipykernel)",
   "language": "python",
   "name": "python3"
  },
  "language_info": {
   "codemirror_mode": {
    "name": "ipython",
    "version": 3
   },
   "file_extension": ".py",
   "mimetype": "text/x-python",
   "name": "python",
   "nbconvert_exporter": "python",
   "pygments_lexer": "ipython3",
   "version": "3.10.6"
  }
 },
 "nbformat": 4,
 "nbformat_minor": 5
}
